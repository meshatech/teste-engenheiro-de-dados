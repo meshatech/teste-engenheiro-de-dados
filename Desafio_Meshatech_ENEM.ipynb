{
  "nbformat": 4,
  "nbformat_minor": 0,
  "metadata": {
    "colab": {
      "name": "Desafio Meshatech - ENEM.ipynb",
      "provenance": [],
      "collapsed_sections": [],
      "toc_visible": true,
      "include_colab_link": true
    },
    "kernelspec": {
      "name": "python3",
      "display_name": "Python 3"
    },
    "language_info": {
      "name": "python"
    }
  },
  "cells": [
    {
      "cell_type": "markdown",
      "metadata": {
        "id": "view-in-github",
        "colab_type": "text"
      },
      "source": [
        "<a href=\"https://colab.research.google.com/github/AfonsoFeliciano/Meshatech-Desafio-Engenheiro-de-Dados/blob/master/Desafio_Meshatech_ENEM.ipynb\" target=\"_parent\"><img src=\"https://colab.research.google.com/assets/colab-badge.svg\" alt=\"Open In Colab\"/></a>"
      ]
    },
    {
      "cell_type": "markdown",
      "source": [
        "# Desafio Data Engineer Meshatech\n",
        "\n",
        "Este código tem como objetivo realizar o desafio técnico para Data Engineer da empresa **Meshatech**, conforme link: https://github.com/meshatech/teste-engenheiro-de-dados\n",
        "\n",
        "<br>\n",
        "\n",
        "Para o desafio, serão aplicados conceitos de ETL, Modelagem Dimensional e utilização do framework Spark em suas variações PySpark e SparkSQL. \n",
        "\n",
        "<br>\n",
        "\n",
        "Para melhor visualização do desafio, clicar no link a seguir: https://colab.research.google.com/github/AfonsoFeliciano/Meshatech-Desafio-Engenheiro-de-Dados/blob/master/Desafio_Meshatech_ENEM.ipynb ou importar o arquivo ipynb para a sua conta do Google Colab.\n",
        "\n",
        "Para replicar o código, utilizar o Google Colab com pelo menos 4GB de espaço livre na conta @gmail vinculada ao Colab.\n",
        "\n",
        "<br>\n",
        "\n",
        "**Candidato**: Afonso de Paula Feliciano\n",
        "<br>\n",
        "**Recrutadora**: Thaís Rodrigues\n",
        "\n",
        "<br>\n",
        "\n",
        "Termos utilizados:\n",
        "\n",
        "- Camada Transient: Diretório simulando um container de Data Lake similar uma Stage no qual recebe os dados em seu formato original.\n",
        "- Camada Raw: Diretório simulando um container de Data Lake no qual recebe os arquivos da camada Transient porém comprimidos em arquivos parquets.\n",
        "- Camada Trusted: Diretório simulando um container de Data Lake no qual recebe os arquivos da camada Raw porém com tratamentos de tipagem, correções de inconsistências, etc, comprimidos em arquivos parquets.  \n",
        "- Camada Refined: Diretório simulando um container de Data Lake no qual recebe os arquivos da camada Raw (não foi o caso deste desafio) e Trusted realizando operações como joins, modelagem dimensional e comprimidos em arquivos parquets.\n"
      ],
      "metadata": {
        "id": "pIfkwPg3ftJg"
      }
    },
    {
      "cell_type": "markdown",
      "source": [
        "## Configurando variável com a data e hora inicial\n",
        "\n",
        "Essa configuração foi utilizada para quantificar o tempo de execução do código desde a configuração do ambiente spark, Extração, Transformação e Escrita dos Dados."
      ],
      "metadata": {
        "id": "I142UGMWM4gK"
      }
    },
    {
      "cell_type": "code",
      "source": [
        "from datetime import datetime\n",
        "started = datetime.now()"
      ],
      "metadata": {
        "id": "r0PlHQ16MzHz"
      },
      "execution_count": null,
      "outputs": []
    },
    {
      "cell_type": "markdown",
      "source": [
        "## Configurando ambiente Spark"
      ],
      "metadata": {
        "id": "_SFyDmC4MQmG"
      }
    },
    {
      "cell_type": "code",
      "source": [
        "%%bash\n",
        "\n",
        "# Instalação java\n",
        "apt-get update && apt-get install openjdk-8-jdk-headless -qq > /dev/null\n",
        "\n",
        "# Instalação PySpark\n",
        "pip install -q pyspark"
      ],
      "metadata": {
        "id": "DQOHNOdZMOph",
        "colab": {
          "base_uri": "https://localhost:8080/"
        },
        "outputId": "84b8a691-5c7e-456c-a800-1f40883bb026"
      },
      "execution_count": null,
      "outputs": [
        {
          "output_type": "stream",
          "name": "stdout",
          "text": [
            "Hit:1 https://cloud.r-project.org/bin/linux/ubuntu bionic-cran40/ InRelease\n",
            "Hit:2 https://developer.download.nvidia.com/compute/cuda/repos/ubuntu1804/x86_64  InRelease\n",
            "Hit:3 http://archive.ubuntu.com/ubuntu bionic InRelease\n",
            "Hit:4 http://ppa.launchpad.net/c2d4u.team/c2d4u4.0+/ubuntu bionic InRelease\n",
            "Hit:5 http://archive.ubuntu.com/ubuntu bionic-updates InRelease\n",
            "Ign:6 https://developer.download.nvidia.com/compute/machine-learning/repos/ubuntu1804/x86_64  InRelease\n",
            "Hit:7 https://developer.download.nvidia.com/compute/machine-learning/repos/ubuntu1804/x86_64  Release\n",
            "Hit:8 http://security.ubuntu.com/ubuntu bionic-security InRelease\n",
            "Hit:9 http://archive.ubuntu.com/ubuntu bionic-backports InRelease\n",
            "Hit:10 http://ppa.launchpad.net/cran/libgit2/ubuntu bionic InRelease\n",
            "Hit:11 http://ppa.launchpad.net/deadsnakes/ppa/ubuntu bionic InRelease\n",
            "Hit:12 http://ppa.launchpad.net/graphics-drivers/ppa/ubuntu bionic InRelease\n",
            "Reading package lists...\n"
          ]
        }
      ]
    },
    {
      "cell_type": "code",
      "source": [
        "import os\n",
        "os.environ['JAVA_HOME'] = '/usr/lib/jvm/java-8-openjdk-amd64'\n",
        "\n",
        "from pyspark.sql import SparkSession\n",
        "\n",
        "spark = SparkSession.builder.master(\"local[*]\").getOrCreate()"
      ],
      "metadata": {
        "id": "OXuOpNIdMWqt"
      },
      "execution_count": null,
      "outputs": []
    },
    {
      "cell_type": "markdown",
      "source": [
        "## Realizando download dos arquivos e salvando-os na camada Transient"
      ],
      "metadata": {
        "id": "u2-qxTA2MIHl"
      }
    },
    {
      "cell_type": "code",
      "source": [
        "#Bibliotecas necessárias\n",
        "import zipfile\n",
        "import requests\n",
        "from io import BytesIO\n",
        "import os"
      ],
      "metadata": {
        "id": "_TEH6cNFIXOr"
      },
      "execution_count": null,
      "outputs": []
    },
    {
      "cell_type": "code",
      "source": [
        "#Variáveis gerais\n",
        "link = \"https://download.inep.gov.br/microdados/microdados_enem_2020.zip\"\n",
        "path_transient = \"/content/transient/\"\n",
        "path_raw = \"/content/raw/\"\n",
        "path_trusted = \"/content/trusted/\"\n",
        "path_refined = \"/content/refined/\""
      ],
      "metadata": {
        "id": "LVQFemSVKz3O"
      },
      "execution_count": null,
      "outputs": []
    },
    {
      "cell_type": "code",
      "source": [
        "#Realizando requisição na url do enem\n",
        "filebytes = BytesIO( requests.get(link, verify=False).content )"
      ],
      "metadata": {
        "colab": {
          "base_uri": "https://localhost:8080/"
        },
        "id": "_8ipMDP6IrVe",
        "outputId": "d6cc265b-aa79-4c78-c221-a9248c412637"
      },
      "execution_count": null,
      "outputs": [
        {
          "output_type": "stream",
          "name": "stderr",
          "text": [
            "/usr/local/lib/python3.7/dist-packages/urllib3/connectionpool.py:847: InsecureRequestWarning: Unverified HTTPS request is being made. Adding certificate verification is strongly advised. See: https://urllib3.readthedocs.io/en/latest/advanced-usage.html#ssl-warnings\n",
            "  InsecureRequestWarning)\n"
          ]
        }
      ]
    },
    {
      "cell_type": "markdown",
      "source": [
        "#### Descompactando arquivos"
      ],
      "metadata": {
        "id": "GxVtlQUZaxTr"
      }
    },
    {
      "cell_type": "code",
      "source": [
        "#Descompactando o arquivo zip\n",
        "myzip = zipfile.ZipFile(filebytes)\n",
        "myzip.extractall(path_transient + \"ENEM/\")"
      ],
      "metadata": {
        "id": "gzN57VwxJHh1"
      },
      "execution_count": null,
      "outputs": []
    },
    {
      "cell_type": "markdown",
      "source": [
        "## Realizando a leitura full do arquivo na camada Transient\n",
        "\n",
        "---\n",
        "\n"
      ],
      "metadata": {
        "id": "IX8mJI6HOL-R"
      }
    },
    {
      "cell_type": "code",
      "source": [
        "df_enem = spark.read.options(header = 'True', delimiter=';', encoding = 'ISO-8859-1') \\\n",
        "            .csv(path_transient + \"ENEM/DADOS/MICRODADOS_ENEM_2020.csv\")"
      ],
      "metadata": {
        "id": "0GgQd799MZYF"
      },
      "execution_count": null,
      "outputs": []
    },
    {
      "cell_type": "code",
      "source": [
        "df_enem.show()"
      ],
      "metadata": {
        "id": "9Le_1PpYMuph",
        "colab": {
          "base_uri": "https://localhost:8080/"
        },
        "outputId": "9e4997ac-82e6-496e-a2d1-f8606ee7ced2"
      },
      "execution_count": null,
      "outputs": [
        {
          "output_type": "stream",
          "name": "stdout",
          "text": [
            "+------------+------+---------------+-------+---------------+-----------+----------------+---------------+---------------+---------+---------+------------+----------------+-------------------+---------+---------+----------------------+------------------+---------------+------------------+--------------------+-----------+-----------+--------------+--------------+--------------+--------------+-----------+-----------+-----------+-----------+----------+----------+----------+----------+--------------------+--------------------+--------------------+--------------------+---------+--------------------+--------------------+--------------------+--------------------+-----------------+-------------+-------------+-------------+-------------+-------------+---------------+----+----+----+----+----+----+----+----+----+----+----+----+----+----+----+----+----+----+----+----+----+----+----+----+----+\n",
            "|NU_INSCRICAO|NU_ANO|TP_FAIXA_ETARIA|TP_SEXO|TP_ESTADO_CIVIL|TP_COR_RACA|TP_NACIONALIDADE|TP_ST_CONCLUSAO|TP_ANO_CONCLUIU|TP_ESCOLA|TP_ENSINO|IN_TREINEIRO|CO_MUNICIPIO_ESC|   NO_MUNICIPIO_ESC|CO_UF_ESC|SG_UF_ESC|TP_DEPENDENCIA_ADM_ESC|TP_LOCALIZACAO_ESC|TP_SIT_FUNC_ESC|CO_MUNICIPIO_PROVA|  NO_MUNICIPIO_PROVA|CO_UF_PROVA|SG_UF_PROVA|TP_PRESENCA_CN|TP_PRESENCA_CH|TP_PRESENCA_LC|TP_PRESENCA_MT|CO_PROVA_CN|CO_PROVA_CH|CO_PROVA_LC|CO_PROVA_MT|NU_NOTA_CN|NU_NOTA_CH|NU_NOTA_LC|NU_NOTA_MT|     TX_RESPOSTAS_CN|     TX_RESPOSTAS_CH|     TX_RESPOSTAS_LC|     TX_RESPOSTAS_MT|TP_LINGUA|      TX_GABARITO_CN|      TX_GABARITO_CH|      TX_GABARITO_LC|      TX_GABARITO_MT|TP_STATUS_REDACAO|NU_NOTA_COMP1|NU_NOTA_COMP2|NU_NOTA_COMP3|NU_NOTA_COMP4|NU_NOTA_COMP5|NU_NOTA_REDACAO|Q001|Q002|Q003|Q004|Q005|Q006|Q007|Q008|Q009|Q010|Q011|Q012|Q013|Q014|Q015|Q016|Q017|Q018|Q019|Q020|Q021|Q022|Q023|Q024|Q025|\n",
            "+------------+------+---------------+-------+---------------+-----------+----------------+---------------+---------------+---------+---------+------------+----------------+-------------------+---------+---------+----------------------+------------------+---------------+------------------+--------------------+-----------+-----------+--------------+--------------+--------------+--------------+-----------+-----------+-----------+-----------+----------+----------+----------+----------+--------------------+--------------------+--------------------+--------------------+---------+--------------------+--------------------+--------------------+--------------------+-----------------+-------------+-------------+-------------+-------------+-------------+---------------+----+----+----+----+----+----+----+----+----+----+----+----+----+----+----+----+----+----+----+----+----+----+----+----+----+\n",
            "|200006271946|  2020|             11|      F|              1|          2|               1|              1|             11|        1|     null|           0|            null|               null|     null|     null|                  null|              null|           null|           1501402|               Belém|         15|         PA|             0|             0|             0|             0|       null|       null|       null|       null|      null|      null|      null|      null|                null|                null|                null|                null|        1|                null|                null|                null|                null|             null|         null|         null|         null|         null|         null|           null|null|null|null|null|null|null|null|null|null|null|null|null|null|null|null|null|null|null|null|null|null|null|null|null|null|\n",
            "|200001195856|  2020|             11|      M|              2|          3|               1|              1|             11|        1|     null|           0|            null|               null|     null|     null|                  null|              null|           null|           2408102|               Natal|         24|         RN|             1|             1|             1|             1|        702|        689|        693|        698|     604.1|     661.7|     595.3|     711.3|BCBDBDCCCDBDDBADE...|BCAECABCDCEBDBBBD...|99999CADDEDADBAAB...|EBEBDEDAECBADCADD...|        1|ABBACBCCCDDDDBAEE...|BCEECDBCCDEBDBBBB...|99999CBDDEDBDBACE...|BBEADECAECBBXCEBA...|                1|          120|          120|          120|          120|          100|            580|null|null|null|null|null|null|null|null|null|null|null|null|null|null|null|null|null|null|null|null|null|null|null|null|null|\n",
            "|200001943954|  2020|              4|      F|              2|          3|               2|              2|              0|        2|        1|           0|         2927408|           Salvador|       29|       BA|                     2|                 1|              1|           2927408|            Salvador|         29|         BA|             0|             0|             0|             0|       null|       null|       null|       null|      null|      null|      null|      null|                null|                null|                null|                null|        0|                null|                null|                null|                null|             null|         null|         null|         null|         null|         null|           null|   B|   C|   A|   D|   3|   B|   A|   B|   A|   A|   A|   B|   A|   B|   A|   B|   A|   A|   B|   A|   A|   A|   A|   A|   A|\n",
            "|200001908998|  2020|              2|      M|              1|          3|               1|              2|              0|        2|        1|           0|         3547304|Santana de Parnaíba|       35|       SP|                     3|                 1|              1|           3547304| Santana de Parnaíba|         35|         SP|             1|             1|             1|             1|        700|        688|        692|        696|     620.8|       675|     624.2|     759.4|EBEDCCCDCBDBAECAE...|DABCCACCBCCDCADBD...|DCEAB99999AADAECC...|CBDBDCCDDEECBAABB...|        0|BDECCACBEBDEAEDAE...|DABCCAECBABECADBD...|DCEAD99999AADACCC...|EBDBXCCDAEECBAABA...|                1|          140|          200|          140|          120|          160|            760|null|null|null|null|null|null|null|null|null|null|null|null|null|null|null|null|null|null|null|null|null|null|null|null|null|\n",
            "|200001634757|  2020|              4|      F|              1|          3|               2|              1|              1|        1|     null|           0|            null|               null|     null|     null|                  null|              null|           null|           3121605|          Diamantina|         31|         MG|             0|             0|             0|             0|       null|       null|       null|       null|      null|      null|      null|      null|                null|                null|                null|                null|        1|                null|                null|                null|                null|             null|         null|         null|         null|         null|         null|           null|   B|   G|   B|   B|   3|   B|   A|   B|   D|   A|   A|   B|   A|   B|   A|   A|   A|   A|   B|   A|   B|   B|   A|   A|   B|\n",
            "|200003132410|  2020|              3|      F|              1|          3|               1|              1|              1|        1|     null|           0|            null|               null|     null|     null|                  null|              null|           null|           4305207|         Cerro Largo|         43|         RS|             1|             1|             1|             1|        598|        567|        577|        588|     498.1|     604.7|     505.4|     526.7|CABBEEACAEBEBCCDA...|ACEBBDDCADDAACEEA...|99999CBECEBEDBEEC...|BADCAAAEEDBEDBACE...|        1|CEDBDDDCACCBDAEBA...|DABCBDDDAEDBECECB...|AAEDCACEEECEAACBA...|AEBCCXCCCACCDABCC...|                1|          140|          120|          140|          140|          160|            700|   C|   B|   C|   B|   5|   C|   A|   B|   E|   A|   A|   B|   A|   A|   A|   B|   A|   A|   B|   B|   A|   D|   A|   B|   B|\n",
            "|200001379770|  2020|              9|      M|              1|          3|               1|              1|              6|        1|     null|           0|            null|               null|     null|     null|                  null|              null|           null|           2611606|              Recife|         26|         PE|             0|             0|             0|             0|       null|       null|       null|       null|      null|      null|      null|      null|                null|                null|                null|                null|        0|                null|                null|                null|                null|             null|         null|         null|         null|         null|         null|           null|null|null|null|null|null|null|null|null|null|null|null|null|null|null|null|null|null|null|null|null|null|null|null|null|null|\n",
            "|200001334237|  2020|              4|      M|              1|          1|               1|              1|              1|        1|     null|           0|            null|               null|     null|     null|                  null|              null|           null|           3550308|           São Paulo|         35|         SP|             1|             1|             1|             1|        699|        687|        691|        695|     604.6|     604.8|     562.1|     753.2|CECACBBCADACADDEE...|EAADABBEABCADDBAA...|CADDE99999AEEADBA...|BABADDBDAEBAEBBBE...|        0|DEAAECBBCDCBAEBEE...|EAAADBBEDBDACDBCC...|CADDE99999DEBBBBB...|BABBDABAEEBACBACD...|                1|          140|          120|          120|          120|          100|            600|null|null|null|null|null|null|null|null|null|null|null|null|null|null|null|null|null|null|null|null|null|null|null|null|null|\n",
            "|200006762554|  2020|              5|      F|              2|          3|               1|              1|              3|        1|     null|           0|            null|               null|     null|     null|                  null|              null|           null|           2507507|         João Pessoa|         25|         PB|             1|             1|             1|             1|        598|        567|        577|        588|     439.7|     383.5|     486.2|     448.5|DABCDCAEDEDCBEDCD...|ECCAEAEACDDABCBDA...|99999DDCBBABECCAC...|EEDCCEACEBAAAADCD...|        1|CEDBDDDCACCBDAEBA...|DABCBDDDAEDBECECB...|AAEDCACEEECEAACBA...|AEBCCXCCCACCDABCC...|                1|          120|          120|          120|          140|          100|            600|   B|   C|   C|   B|   2|   B|   A|   B|   C|   A|   A|   B|   A|   B|   A|   A|   A|   A|   B|   A|   A|   C|   A|   A|   A|\n",
            "|200005146210|  2020|              2|      M|              1|          2|               1|              2|              0|        2|        1|           0|            null|               null|     null|     null|                  null|              null|           null|           2304400|           Fortaleza|         23|         CE|             0|             0|             0|             0|       null|       null|       null|       null|      null|      null|      null|      null|                null|                null|                null|                null|        0|                null|                null|                null|                null|             null|         null|         null|         null|         null|         null|           null|   A|   A|   B|   A|   4|   B|   A|   B|   B|   A|   A|   B|   A|   A|   A|   A|   A|   A|   B|   A|   A|   A|   A|   A|   B|\n",
            "|200004902048|  2020|              6|      M|              1|          1|               1|              1|              3|        1|     null|           0|            null|               null|     null|     null|                  null|              null|           null|           3550308|           São Paulo|         35|         SP|             0|             0|             0|             0|       null|       null|       null|       null|      null|      null|      null|      null|                null|                null|                null|                null|        0|                null|                null|                null|                null|             null|         null|         null|         null|         null|         null|           null|   B|   B|   B|   B|   7|   B|   A|   B|   C|   A|   A|   B|   A|   A|   A|   B|   A|   A|   B|   A|   A|   C|   B|   B|   B|\n",
            "|200006138472|  2020|              7|      M|              1|          1|               1|              1|              0|        1|     null|           0|            null|               null|     null|     null|                  null|              null|           null|           2910727|           Eunápolis|         29|         BA|             1|             1|             1|             1|        598|        567|        577|        588|     491.1|     631.4|     627.9|     546.5|BAEACEDBACDDEDECE...|CDEABDDDABDBEABCA...|AACDC99999ABDBEDA...|EBCDBEBABDBBDABCB...|        0|CEDBDDDCACCBDAEBA...|DABCBDDDAEDBECECB...|AAEDCACEEECEAACBA...|AEBCCXCCCACCDABCC...|                1|          140|          120|          140|          120|          120|            640|   B|   C|   C|   B|   5|   B|   A|   B|   C|   A|   A|   B|   A|   A|   A|   A|   B|   A|   B|   A|   A|   C|   A|   B|   B|\n",
            "|200005613689|  2020|              3|      F|              1|          3|               1|              1|              1|        1|     null|           0|            null|               null|     null|     null|                  null|              null|           null|           5008305|         Três Lagoas|         50|         MS|             0|             0|             0|             0|       null|       null|       null|       null|      null|      null|      null|      null|                null|                null|                null|                null|        0|                null|                null|                null|                null|             null|         null|         null|         null|         null|         null|           null|   D|   E|   A|   A|   3|   B|   A|   B|   C|   A|   A|   B|   A|   A|   A|   A|   A|   A|   A|   A|   A|   C|   A|   A|   A|\n",
            "|200004833505|  2020|             11|      F|              2|          2|               1|              1|             12|        1|     null|           0|            null|               null|     null|     null|                  null|              null|           null|           3547809|         Santo André|         35|         SP|             0|             0|             0|             0|       null|       null|       null|       null|      null|      null|      null|      null|                null|                null|                null|                null|        1|                null|                null|                null|                null|             null|         null|         null|         null|         null|         null|           null|null|null|null|null|null|null|null|null|null|null|null|null|null|null|null|null|null|null|null|null|null|null|null|null|null|\n",
            "|200004570764|  2020|             11|      M|              1|          2|               1|              1|              0|        1|     null|           0|            null|               null|     null|     null|                  null|              null|           null|           2604007|             Carpina|         26|         PE|             0|             0|             0|             0|       null|       null|       null|       null|      null|      null|      null|      null|                null|                null|                null|                null|        1|                null|                null|                null|                null|             null|         null|         null|         null|         null|         null|           null|   H|   B|   F|   B|   3|   B|   A|   C|   D|   A|   A|   B|   A|   A|   A|   A|   A|   A|   B|   A|   A|   B|   A|   B|   B|\n",
            "|200001071590|  2020|              5|      F|              1|          3|               1|              1|              0|        1|     null|           0|            null|               null|     null|     null|                  null|              null|           null|           2800308|             Aracaju|         28|         SE|             0|             0|             0|             0|       null|       null|       null|       null|      null|      null|      null|      null|                null|                null|                null|                null|        1|                null|                null|                null|                null|             null|         null|         null|         null|         null|         null|           null|null|null|null|null|null|null|null|null|null|null|null|null|null|null|null|null|null|null|null|null|null|null|null|null|null|\n",
            "|200001934470|  2020|              7|      F|              1|          3|               1|              1|              4|        1|     null|           0|            null|               null|     null|     null|                  null|              null|           null|           2933307|Vitória da Conquista|         29|         BA|             0|             0|             0|             0|       null|       null|       null|       null|      null|      null|      null|      null|                null|                null|                null|                null|        1|                null|                null|                null|                null|             null|         null|         null|         null|         null|         null|           null|   A|   B|   F|   F|   3|   B|   A|   B|   C|   A|   A|   B|   B|   A|   A|   A|   A|   A|   B|   A|   A|   C|   A|   B|   B|\n",
            "|200006066678|  2020|              4|      M|              1|          1|               1|              1|              1|        1|     null|           0|            null|               null|     null|     null|                  null|              null|           null|           4106902|            Curitiba|         41|         PR|             0|             0|             0|             0|       null|       null|       null|       null|      null|      null|      null|      null|                null|                null|                null|                null|        0|                null|                null|                null|                null|             null|         null|         null|         null|         null|         null|           null|null|null|null|null|null|null|null|null|null|null|null|null|null|null|null|null|null|null|null|null|null|null|null|null|null|\n",
            "|200003343448|  2020|              7|      F|              1|          3|               1|              1|              3|        1|     null|           0|            null|               null|     null|     null|                  null|              null|           null|           2704302|              Maceió|         27|         AL|             1|             1|             1|             1|        597|        569|        580|        587|     422.4|     488.1|     559.1|     420.3|BDCEDABCECACBDCBB...|CAEADAEEDEDBDDCAB...|CADAA99999ABCBEBD...|BBCCDBEADABBE*CED...|        0|DDBACBDDDECDAEDCC...|DECCADEBDECBBECDD...|DCEAAEEEACAACBBEB...|DABCCAEDBBCCCABCA...|                1|          140|          180|          140|          160|          180|            800|   C|   C|   C|   B|   2|   B|   A|   B|   C|   A|   A|   B|   A|   A|   A|   A|   A|   A|   B|   B|   A|   C|   A|   B|   B|\n",
            "|200005966328|  2020|             13|      M|              1|          2|               1|              1|              0|        1|     null|           0|            null|               null|     null|     null|                  null|              null|           null|           1501402|               Belém|         15|         PA|             1|             1|             1|             1|        600|        570|        579|        589|       486|     503.3|     439.8|     405.6|DBEBBBCCDCBCAEBAE...|BABAEABBEDBDCDBBE...|99999EAADBDAABCBD...|BBAADDCCEABAAEBBA...|        1|DCDXDCCAEBADCBAAE...|BDDBECECBACDBDEEB...|AACDEEEECADBBCAAA...|BAECDBBXCCCBDBACC...|                1|          100|          100|          120|          100|           80|            500|   C|   D|   C|   C|   5|   D|   A|   C|   C|   A|   A|   B|   A|   A|   A|   A|   A|   A|   B|   B|   A|   C|   A|   A|   A|\n",
            "+------------+------+---------------+-------+---------------+-----------+----------------+---------------+---------------+---------+---------+------------+----------------+-------------------+---------+---------+----------------------+------------------+---------------+------------------+--------------------+-----------+-----------+--------------+--------------+--------------+--------------+-----------+-----------+-----------+-----------+----------+----------+----------+----------+--------------------+--------------------+--------------------+--------------------+---------+--------------------+--------------------+--------------------+--------------------+-----------------+-------------+-------------+-------------+-------------+-------------+---------------+----+----+----+----+----+----+----+----+----+----+----+----+----+----+----+----+----+----+----+----+----+----+----+----+----+\n",
            "only showing top 20 rows\n",
            "\n"
          ]
        }
      ]
    },
    {
      "cell_type": "markdown",
      "source": [
        "## Gravando o dataframe bruto como parquet em camada Raw"
      ],
      "metadata": {
        "id": "MjiharuyPe-E"
      }
    },
    {
      "cell_type": "code",
      "source": [
        "df_enem.write.mode('overwrite').parquet(path_raw + \"enem/\")"
      ],
      "metadata": {
        "id": "5E-7dNy9ObV5"
      },
      "execution_count": null,
      "outputs": []
    },
    {
      "cell_type": "markdown",
      "source": [
        "## Limpando a camada Transient"
      ],
      "metadata": {
        "id": "Hh_viC6HnBNp"
      }
    },
    {
      "cell_type": "code",
      "source": [
        "!rm -rf '/content/transient/'"
      ],
      "metadata": {
        "id": "P9jplMF1nEw7"
      },
      "execution_count": null,
      "outputs": []
    },
    {
      "cell_type": "markdown",
      "source": [
        "## Realizando a leitura na camada Raw"
      ],
      "metadata": {
        "id": "tRgQPphaRtFd"
      }
    },
    {
      "cell_type": "code",
      "source": [
        "df_enem_raw = spark.read.load(path= path_raw + 'enem/*.parquet', format='parquet')"
      ],
      "metadata": {
        "id": "tkAx11ZLQ86z"
      },
      "execution_count": null,
      "outputs": []
    },
    {
      "cell_type": "code",
      "source": [
        "df_enem_raw.show()"
      ],
      "metadata": {
        "colab": {
          "base_uri": "https://localhost:8080/"
        },
        "id": "yTgRNpdvGUeZ",
        "outputId": "aedb6ca2-0f0e-4a14-fd27-98bdbf9ec899"
      },
      "execution_count": null,
      "outputs": [
        {
          "output_type": "stream",
          "name": "stdout",
          "text": [
            "+------------+------+---------------+-------+---------------+-----------+----------------+---------------+---------------+---------+---------+------------+----------------+-------------------+---------+---------+----------------------+------------------+---------------+------------------+--------------------+-----------+-----------+--------------+--------------+--------------+--------------+-----------+-----------+-----------+-----------+----------+----------+----------+----------+--------------------+--------------------+--------------------+--------------------+---------+--------------------+--------------------+--------------------+--------------------+-----------------+-------------+-------------+-------------+-------------+-------------+---------------+----+----+----+----+----+----+----+----+----+----+----+----+----+----+----+----+----+----+----+----+----+----+----+----+----+\n",
            "|NU_INSCRICAO|NU_ANO|TP_FAIXA_ETARIA|TP_SEXO|TP_ESTADO_CIVIL|TP_COR_RACA|TP_NACIONALIDADE|TP_ST_CONCLUSAO|TP_ANO_CONCLUIU|TP_ESCOLA|TP_ENSINO|IN_TREINEIRO|CO_MUNICIPIO_ESC|   NO_MUNICIPIO_ESC|CO_UF_ESC|SG_UF_ESC|TP_DEPENDENCIA_ADM_ESC|TP_LOCALIZACAO_ESC|TP_SIT_FUNC_ESC|CO_MUNICIPIO_PROVA|  NO_MUNICIPIO_PROVA|CO_UF_PROVA|SG_UF_PROVA|TP_PRESENCA_CN|TP_PRESENCA_CH|TP_PRESENCA_LC|TP_PRESENCA_MT|CO_PROVA_CN|CO_PROVA_CH|CO_PROVA_LC|CO_PROVA_MT|NU_NOTA_CN|NU_NOTA_CH|NU_NOTA_LC|NU_NOTA_MT|     TX_RESPOSTAS_CN|     TX_RESPOSTAS_CH|     TX_RESPOSTAS_LC|     TX_RESPOSTAS_MT|TP_LINGUA|      TX_GABARITO_CN|      TX_GABARITO_CH|      TX_GABARITO_LC|      TX_GABARITO_MT|TP_STATUS_REDACAO|NU_NOTA_COMP1|NU_NOTA_COMP2|NU_NOTA_COMP3|NU_NOTA_COMP4|NU_NOTA_COMP5|NU_NOTA_REDACAO|Q001|Q002|Q003|Q004|Q005|Q006|Q007|Q008|Q009|Q010|Q011|Q012|Q013|Q014|Q015|Q016|Q017|Q018|Q019|Q020|Q021|Q022|Q023|Q024|Q025|\n",
            "+------------+------+---------------+-------+---------------+-----------+----------------+---------------+---------------+---------+---------+------------+----------------+-------------------+---------+---------+----------------------+------------------+---------------+------------------+--------------------+-----------+-----------+--------------+--------------+--------------+--------------+-----------+-----------+-----------+-----------+----------+----------+----------+----------+--------------------+--------------------+--------------------+--------------------+---------+--------------------+--------------------+--------------------+--------------------+-----------------+-------------+-------------+-------------+-------------+-------------+---------------+----+----+----+----+----+----+----+----+----+----+----+----+----+----+----+----+----+----+----+----+----+----+----+----+----+\n",
            "|200006271946|  2020|             11|      F|              1|          2|               1|              1|             11|        1|     null|           0|            null|               null|     null|     null|                  null|              null|           null|           1501402|               Belém|         15|         PA|             0|             0|             0|             0|       null|       null|       null|       null|      null|      null|      null|      null|                null|                null|                null|                null|        1|                null|                null|                null|                null|             null|         null|         null|         null|         null|         null|           null|null|null|null|null|null|null|null|null|null|null|null|null|null|null|null|null|null|null|null|null|null|null|null|null|null|\n",
            "|200001195856|  2020|             11|      M|              2|          3|               1|              1|             11|        1|     null|           0|            null|               null|     null|     null|                  null|              null|           null|           2408102|               Natal|         24|         RN|             1|             1|             1|             1|        702|        689|        693|        698|     604.1|     661.7|     595.3|     711.3|BCBDBDCCCDBDDBADE...|BCAECABCDCEBDBBBD...|99999CADDEDADBAAB...|EBEBDEDAECBADCADD...|        1|ABBACBCCCDDDDBAEE...|BCEECDBCCDEBDBBBB...|99999CBDDEDBDBACE...|BBEADECAECBBXCEBA...|                1|          120|          120|          120|          120|          100|            580|null|null|null|null|null|null|null|null|null|null|null|null|null|null|null|null|null|null|null|null|null|null|null|null|null|\n",
            "|200001943954|  2020|              4|      F|              2|          3|               2|              2|              0|        2|        1|           0|         2927408|           Salvador|       29|       BA|                     2|                 1|              1|           2927408|            Salvador|         29|         BA|             0|             0|             0|             0|       null|       null|       null|       null|      null|      null|      null|      null|                null|                null|                null|                null|        0|                null|                null|                null|                null|             null|         null|         null|         null|         null|         null|           null|   B|   C|   A|   D|   3|   B|   A|   B|   A|   A|   A|   B|   A|   B|   A|   B|   A|   A|   B|   A|   A|   A|   A|   A|   A|\n",
            "|200001908998|  2020|              2|      M|              1|          3|               1|              2|              0|        2|        1|           0|         3547304|Santana de Parnaíba|       35|       SP|                     3|                 1|              1|           3547304| Santana de Parnaíba|         35|         SP|             1|             1|             1|             1|        700|        688|        692|        696|     620.8|       675|     624.2|     759.4|EBEDCCCDCBDBAECAE...|DABCCACCBCCDCADBD...|DCEAB99999AADAECC...|CBDBDCCDDEECBAABB...|        0|BDECCACBEBDEAEDAE...|DABCCAECBABECADBD...|DCEAD99999AADACCC...|EBDBXCCDAEECBAABA...|                1|          140|          200|          140|          120|          160|            760|null|null|null|null|null|null|null|null|null|null|null|null|null|null|null|null|null|null|null|null|null|null|null|null|null|\n",
            "|200001634757|  2020|              4|      F|              1|          3|               2|              1|              1|        1|     null|           0|            null|               null|     null|     null|                  null|              null|           null|           3121605|          Diamantina|         31|         MG|             0|             0|             0|             0|       null|       null|       null|       null|      null|      null|      null|      null|                null|                null|                null|                null|        1|                null|                null|                null|                null|             null|         null|         null|         null|         null|         null|           null|   B|   G|   B|   B|   3|   B|   A|   B|   D|   A|   A|   B|   A|   B|   A|   A|   A|   A|   B|   A|   B|   B|   A|   A|   B|\n",
            "|200003132410|  2020|              3|      F|              1|          3|               1|              1|              1|        1|     null|           0|            null|               null|     null|     null|                  null|              null|           null|           4305207|         Cerro Largo|         43|         RS|             1|             1|             1|             1|        598|        567|        577|        588|     498.1|     604.7|     505.4|     526.7|CABBEEACAEBEBCCDA...|ACEBBDDCADDAACEEA...|99999CBECEBEDBEEC...|BADCAAAEEDBEDBACE...|        1|CEDBDDDCACCBDAEBA...|DABCBDDDAEDBECECB...|AAEDCACEEECEAACBA...|AEBCCXCCCACCDABCC...|                1|          140|          120|          140|          140|          160|            700|   C|   B|   C|   B|   5|   C|   A|   B|   E|   A|   A|   B|   A|   A|   A|   B|   A|   A|   B|   B|   A|   D|   A|   B|   B|\n",
            "|200001379770|  2020|              9|      M|              1|          3|               1|              1|              6|        1|     null|           0|            null|               null|     null|     null|                  null|              null|           null|           2611606|              Recife|         26|         PE|             0|             0|             0|             0|       null|       null|       null|       null|      null|      null|      null|      null|                null|                null|                null|                null|        0|                null|                null|                null|                null|             null|         null|         null|         null|         null|         null|           null|null|null|null|null|null|null|null|null|null|null|null|null|null|null|null|null|null|null|null|null|null|null|null|null|null|\n",
            "|200001334237|  2020|              4|      M|              1|          1|               1|              1|              1|        1|     null|           0|            null|               null|     null|     null|                  null|              null|           null|           3550308|           São Paulo|         35|         SP|             1|             1|             1|             1|        699|        687|        691|        695|     604.6|     604.8|     562.1|     753.2|CECACBBCADACADDEE...|EAADABBEABCADDBAA...|CADDE99999AEEADBA...|BABADDBDAEBAEBBBE...|        0|DEAAECBBCDCBAEBEE...|EAAADBBEDBDACDBCC...|CADDE99999DEBBBBB...|BABBDABAEEBACBACD...|                1|          140|          120|          120|          120|          100|            600|null|null|null|null|null|null|null|null|null|null|null|null|null|null|null|null|null|null|null|null|null|null|null|null|null|\n",
            "|200006762554|  2020|              5|      F|              2|          3|               1|              1|              3|        1|     null|           0|            null|               null|     null|     null|                  null|              null|           null|           2507507|         João Pessoa|         25|         PB|             1|             1|             1|             1|        598|        567|        577|        588|     439.7|     383.5|     486.2|     448.5|DABCDCAEDEDCBEDCD...|ECCAEAEACDDABCBDA...|99999DDCBBABECCAC...|EEDCCEACEBAAAADCD...|        1|CEDBDDDCACCBDAEBA...|DABCBDDDAEDBECECB...|AAEDCACEEECEAACBA...|AEBCCXCCCACCDABCC...|                1|          120|          120|          120|          140|          100|            600|   B|   C|   C|   B|   2|   B|   A|   B|   C|   A|   A|   B|   A|   B|   A|   A|   A|   A|   B|   A|   A|   C|   A|   A|   A|\n",
            "|200005146210|  2020|              2|      M|              1|          2|               1|              2|              0|        2|        1|           0|            null|               null|     null|     null|                  null|              null|           null|           2304400|           Fortaleza|         23|         CE|             0|             0|             0|             0|       null|       null|       null|       null|      null|      null|      null|      null|                null|                null|                null|                null|        0|                null|                null|                null|                null|             null|         null|         null|         null|         null|         null|           null|   A|   A|   B|   A|   4|   B|   A|   B|   B|   A|   A|   B|   A|   A|   A|   A|   A|   A|   B|   A|   A|   A|   A|   A|   B|\n",
            "|200004902048|  2020|              6|      M|              1|          1|               1|              1|              3|        1|     null|           0|            null|               null|     null|     null|                  null|              null|           null|           3550308|           São Paulo|         35|         SP|             0|             0|             0|             0|       null|       null|       null|       null|      null|      null|      null|      null|                null|                null|                null|                null|        0|                null|                null|                null|                null|             null|         null|         null|         null|         null|         null|           null|   B|   B|   B|   B|   7|   B|   A|   B|   C|   A|   A|   B|   A|   A|   A|   B|   A|   A|   B|   A|   A|   C|   B|   B|   B|\n",
            "|200006138472|  2020|              7|      M|              1|          1|               1|              1|              0|        1|     null|           0|            null|               null|     null|     null|                  null|              null|           null|           2910727|           Eunápolis|         29|         BA|             1|             1|             1|             1|        598|        567|        577|        588|     491.1|     631.4|     627.9|     546.5|BAEACEDBACDDEDECE...|CDEABDDDABDBEABCA...|AACDC99999ABDBEDA...|EBCDBEBABDBBDABCB...|        0|CEDBDDDCACCBDAEBA...|DABCBDDDAEDBECECB...|AAEDCACEEECEAACBA...|AEBCCXCCCACCDABCC...|                1|          140|          120|          140|          120|          120|            640|   B|   C|   C|   B|   5|   B|   A|   B|   C|   A|   A|   B|   A|   A|   A|   A|   B|   A|   B|   A|   A|   C|   A|   B|   B|\n",
            "|200005613689|  2020|              3|      F|              1|          3|               1|              1|              1|        1|     null|           0|            null|               null|     null|     null|                  null|              null|           null|           5008305|         Três Lagoas|         50|         MS|             0|             0|             0|             0|       null|       null|       null|       null|      null|      null|      null|      null|                null|                null|                null|                null|        0|                null|                null|                null|                null|             null|         null|         null|         null|         null|         null|           null|   D|   E|   A|   A|   3|   B|   A|   B|   C|   A|   A|   B|   A|   A|   A|   A|   A|   A|   A|   A|   A|   C|   A|   A|   A|\n",
            "|200004833505|  2020|             11|      F|              2|          2|               1|              1|             12|        1|     null|           0|            null|               null|     null|     null|                  null|              null|           null|           3547809|         Santo André|         35|         SP|             0|             0|             0|             0|       null|       null|       null|       null|      null|      null|      null|      null|                null|                null|                null|                null|        1|                null|                null|                null|                null|             null|         null|         null|         null|         null|         null|           null|null|null|null|null|null|null|null|null|null|null|null|null|null|null|null|null|null|null|null|null|null|null|null|null|null|\n",
            "|200004570764|  2020|             11|      M|              1|          2|               1|              1|              0|        1|     null|           0|            null|               null|     null|     null|                  null|              null|           null|           2604007|             Carpina|         26|         PE|             0|             0|             0|             0|       null|       null|       null|       null|      null|      null|      null|      null|                null|                null|                null|                null|        1|                null|                null|                null|                null|             null|         null|         null|         null|         null|         null|           null|   H|   B|   F|   B|   3|   B|   A|   C|   D|   A|   A|   B|   A|   A|   A|   A|   A|   A|   B|   A|   A|   B|   A|   B|   B|\n",
            "|200001071590|  2020|              5|      F|              1|          3|               1|              1|              0|        1|     null|           0|            null|               null|     null|     null|                  null|              null|           null|           2800308|             Aracaju|         28|         SE|             0|             0|             0|             0|       null|       null|       null|       null|      null|      null|      null|      null|                null|                null|                null|                null|        1|                null|                null|                null|                null|             null|         null|         null|         null|         null|         null|           null|null|null|null|null|null|null|null|null|null|null|null|null|null|null|null|null|null|null|null|null|null|null|null|null|null|\n",
            "|200001934470|  2020|              7|      F|              1|          3|               1|              1|              4|        1|     null|           0|            null|               null|     null|     null|                  null|              null|           null|           2933307|Vitória da Conquista|         29|         BA|             0|             0|             0|             0|       null|       null|       null|       null|      null|      null|      null|      null|                null|                null|                null|                null|        1|                null|                null|                null|                null|             null|         null|         null|         null|         null|         null|           null|   A|   B|   F|   F|   3|   B|   A|   B|   C|   A|   A|   B|   B|   A|   A|   A|   A|   A|   B|   A|   A|   C|   A|   B|   B|\n",
            "|200006066678|  2020|              4|      M|              1|          1|               1|              1|              1|        1|     null|           0|            null|               null|     null|     null|                  null|              null|           null|           4106902|            Curitiba|         41|         PR|             0|             0|             0|             0|       null|       null|       null|       null|      null|      null|      null|      null|                null|                null|                null|                null|        0|                null|                null|                null|                null|             null|         null|         null|         null|         null|         null|           null|null|null|null|null|null|null|null|null|null|null|null|null|null|null|null|null|null|null|null|null|null|null|null|null|null|\n",
            "|200003343448|  2020|              7|      F|              1|          3|               1|              1|              3|        1|     null|           0|            null|               null|     null|     null|                  null|              null|           null|           2704302|              Maceió|         27|         AL|             1|             1|             1|             1|        597|        569|        580|        587|     422.4|     488.1|     559.1|     420.3|BDCEDABCECACBDCBB...|CAEADAEEDEDBDDCAB...|CADAA99999ABCBEBD...|BBCCDBEADABBE*CED...|        0|DDBACBDDDECDAEDCC...|DECCADEBDECBBECDD...|DCEAAEEEACAACBBEB...|DABCCAEDBBCCCABCA...|                1|          140|          180|          140|          160|          180|            800|   C|   C|   C|   B|   2|   B|   A|   B|   C|   A|   A|   B|   A|   A|   A|   A|   A|   A|   B|   B|   A|   C|   A|   B|   B|\n",
            "|200005966328|  2020|             13|      M|              1|          2|               1|              1|              0|        1|     null|           0|            null|               null|     null|     null|                  null|              null|           null|           1501402|               Belém|         15|         PA|             1|             1|             1|             1|        600|        570|        579|        589|       486|     503.3|     439.8|     405.6|DBEBBBCCDCBCAEBAE...|BABAEABBEDBDCDBBE...|99999EAADBDAABCBD...|BBAADDCCEABAAEBBA...|        1|DCDXDCCAEBADCBAAE...|BDDBECECBACDBDEEB...|AACDEEEECADBBCAAA...|BAECDBBXCCCBDBACC...|                1|          100|          100|          120|          100|           80|            500|   C|   D|   C|   C|   5|   D|   A|   C|   C|   A|   A|   B|   A|   A|   A|   A|   A|   A|   B|   B|   A|   C|   A|   A|   A|\n",
            "+------------+------+---------------+-------+---------------+-----------+----------------+---------------+---------------+---------+---------+------------+----------------+-------------------+---------+---------+----------------------+------------------+---------------+------------------+--------------------+-----------+-----------+--------------+--------------+--------------+--------------+-----------+-----------+-----------+-----------+----------+----------+----------+----------+--------------------+--------------------+--------------------+--------------------+---------+--------------------+--------------------+--------------------+--------------------+-----------------+-------------+-------------+-------------+-------------+-------------+---------------+----+----+----+----+----+----+----+----+----+----+----+----+----+----+----+----+----+----+----+----+----+----+----+----+----+\n",
            "only showing top 20 rows\n",
            "\n"
          ]
        }
      ]
    },
    {
      "cell_type": "code",
      "source": [
        "df_enem_raw = df_enem_raw.select(\n",
        "              \"NU_INSCRICAO\", \n",
        "              \"TP_SEXO\",\n",
        "              \"TP_COR_RACA\",\n",
        "              \"TP_ESCOLA\",\n",
        "              \"TP_ENSINO\",\n",
        "              \"CO_MUNICIPIO_ESC\",\n",
        "              \"NO_MUNICIPIO_ESC\",\n",
        "              \"CO_UF_ESC\",\n",
        "              \"SG_UF_ESC\",\n",
        "              \"TP_LOCALIZACAO_ESC\",\n",
        "              \"TP_SIT_FUNC_ESC\",\n",
        "              \"NU_NOTA_REDACAO\", \n",
        "              \"NU_NOTA_CN\", \n",
        "              \"NU_NOTA_CH\",\n",
        "              \"NU_NOTA_LC\", \n",
        "              \"NU_NOTA_MT\", \n",
        "              \"TP_PRESENCA_CN\", \n",
        "              \"TP_PRESENCA_CH\", \n",
        "              \"TP_PRESENCA_LC\", \n",
        "              \"TP_PRESENCA_MT\"\n",
        "               \n",
        "\n",
        ") \\\n",
        " "
      ],
      "metadata": {
        "id": "iICX44t5NOu8"
      },
      "execution_count": null,
      "outputs": []
    },
    {
      "cell_type": "code",
      "source": [
        "df_enem_raw.printSchema()"
      ],
      "metadata": {
        "id": "07UP0qMSRl8t",
        "colab": {
          "base_uri": "https://localhost:8080/"
        },
        "outputId": "d0c75eeb-fe79-4b36-f9c2-46f09de83e4c"
      },
      "execution_count": null,
      "outputs": [
        {
          "output_type": "stream",
          "name": "stdout",
          "text": [
            "root\n",
            " |-- NU_INSCRICAO: string (nullable = true)\n",
            " |-- TP_SEXO: string (nullable = true)\n",
            " |-- TP_COR_RACA: string (nullable = true)\n",
            " |-- TP_ESCOLA: string (nullable = true)\n",
            " |-- TP_ENSINO: string (nullable = true)\n",
            " |-- CO_MUNICIPIO_ESC: string (nullable = true)\n",
            " |-- NO_MUNICIPIO_ESC: string (nullable = true)\n",
            " |-- CO_UF_ESC: string (nullable = true)\n",
            " |-- SG_UF_ESC: string (nullable = true)\n",
            " |-- TP_LOCALIZACAO_ESC: string (nullable = true)\n",
            " |-- TP_SIT_FUNC_ESC: string (nullable = true)\n",
            " |-- NU_NOTA_REDACAO: string (nullable = true)\n",
            " |-- NU_NOTA_CN: string (nullable = true)\n",
            " |-- NU_NOTA_CH: string (nullable = true)\n",
            " |-- NU_NOTA_LC: string (nullable = true)\n",
            " |-- NU_NOTA_MT: string (nullable = true)\n",
            " |-- TP_PRESENCA_CN: string (nullable = true)\n",
            " |-- TP_PRESENCA_CH: string (nullable = true)\n",
            " |-- TP_PRESENCA_LC: string (nullable = true)\n",
            " |-- TP_PRESENCA_MT: string (nullable = true)\n",
            "\n"
          ]
        }
      ]
    },
    {
      "cell_type": "markdown",
      "source": [
        "Ao analisar o Schema acima, todos as colunas selecionadas foram exibidas em formato string indicando a ausência de um schema compatível com os dados. "
      ],
      "metadata": {
        "id": "rb9xWCEZTaV9"
      }
    },
    {
      "cell_type": "markdown",
      "source": [
        "## Criando função para exibição de queries em SQL"
      ],
      "metadata": {
        "id": "byoTozFCSOwg"
      }
    },
    {
      "cell_type": "code",
      "source": [
        "def fn_query(query, numero_linhas):\n",
        "    return spark.sql(query).show(n = numero_linhas, truncate=False)"
      ],
      "metadata": {
        "id": "3QQDhNqUSN8H"
      },
      "execution_count": null,
      "outputs": []
    },
    {
      "cell_type": "markdown",
      "source": [
        "## Criando view temporária para realizar os tratamentos de tipagem, criação de colunas, etc"
      ],
      "metadata": {
        "id": "J00WPbsJR5D6"
      }
    },
    {
      "cell_type": "code",
      "source": [
        "df_enem_raw.createOrReplaceTempView(\"VW_ENEM_RAW\")"
      ],
      "metadata": {
        "id": "2ior4hiORvO6"
      },
      "execution_count": null,
      "outputs": []
    },
    {
      "cell_type": "code",
      "source": [
        "#Visualizando a query\n",
        "fn_query(\"\"\"\n",
        "\n",
        "    SELECT   \n",
        "\n",
        "    BIGINT(NU_INSCRICAO) AS NU_INSCRICAO, \n",
        "    CASE \n",
        "      WHEN TP_SEXO = 'F' THEN 1\n",
        "      WHEN TP_SEXO = 'M' THEN 2\n",
        "      ELSE -1\n",
        "    END CD_TP_SEXO,\n",
        "    TP_SEXO AS SG_TP_SEXO, \n",
        "    CASE \n",
        "      WHEN TP_SEXO = 'F' THEN 'Feminino'\n",
        "      WHEN TP_SEXO = 'M' THEN 'Masculino'\n",
        "      ELSE 'Não Declarado'\n",
        "    END NM_TP_SEXO,\n",
        "    IFNULL(INT(TP_COR_RACA), -1) AS CD_TP_RACA,\n",
        "    CASE \n",
        "      WHEN TP_COR_RACA = 0 THEN 'Não Declarado'\n",
        "      WHEN TP_COR_RACA = 1 THEN 'Branca'\n",
        "      WHEN TP_COR_RACA = 2 THEN 'Preta'\n",
        "      WHEN TP_COR_RACA = 3 THEN 'Parda'\n",
        "      WHEN TP_COR_RACA = 4 THEN 'Amarela'\n",
        "      WHEN TP_COR_RACA = 5 THEN 'Indígena'\n",
        "    END NM_COR_RACA,\n",
        "    IFNULL(INT(TP_ESCOLA), -1) AS CD_TP_ESCOLA,\n",
        "    CASE\n",
        "      WHEN TP_ESCOLA = 1 THEN 'Não Respondeu'\n",
        "      WHEN TP_ESCOLA = 2 THEN 'Pública'\n",
        "      WHEN TP_ESCOLA = 3 THEN 'Privada'\n",
        "      WHEN TP_ESCOLA = 4 THEN 'Exterior'\n",
        "    END NM_TP_ESCOLA,\n",
        "    IFNULL(INT(TP_ENSINO), -1) AS CD_TP_ENSINO,\n",
        "    CASE \n",
        "      WHEN TP_ENSINO = 1 THEN 'Ensino Regular'\n",
        "      WHEN TP_ENSINO = 2 THEN 'Educação Especial - Modalidade Substitutiva'\n",
        "      WHEN TP_ENSINO = 3 THEN 'Educação de Jovens e Adultos'\n",
        "      ELSE 'Não Respondeu'\n",
        "    END NM_TP_ENSINO, \n",
        "    IFNULL(INT(CO_MUNICIPIO_ESC), -1) AS CD_MUNICIPIO_ESC,\n",
        "    IFNULL(NO_MUNICIPIO_ESC, 'Não Respondeu') AS NM_MUNICIPIO_ESC,\n",
        "    IFNULL(INT(CO_UF_ESC), -1) AS CD_UF_ESC,\n",
        "    IFNULL(SG_UF_ESC, 'Não Respondeu') SG_UF_ESC,\n",
        "    IFNULL(INT(TP_LOCALIZACAO_ESC), -1) AS CD_TP_LOCALIZACAO_ESC,\n",
        "    CASE \n",
        "        WHEN TP_LOCALIZACAO_ESC = 1 THEN 'Urbana'\n",
        "        WHEN TP_LOCALIZACAO_ESC = 2 THEN 'Rural'\n",
        "        ELSE 'Não Respondeu'\n",
        "    END NM_TP_LOCALIZACAO_ESC,\n",
        "    IFNULL(INT(TP_SIT_FUNC_ESC), -1) AS CD_TP_SIT_FUNC_ESC,\n",
        "    CASE \n",
        "         WHEN TP_SIT_FUNC_ESC = 1 THEN 'Em atividade'\n",
        "         WHEN TP_SIT_FUNC_ESC = 2 THEN 'Paralisada'\n",
        "         WHEN TP_SIT_FUNC_ESC = 3 THEN 'Extinta'\n",
        "         WHEN TP_SIT_FUNC_ESC = 4 THEN 'Escola extinta em anos anteriores'\n",
        "        ELSE 'Não Respondeu'\n",
        "    END NM_TP_SIT_FUNC_ESC,\n",
        "    FLOAT(NU_NOTA_REDACAO) NU_NOTA_REDACAO,\n",
        "    FLOAT(NU_NOTA_CN) NU_NOTA_CN,\n",
        "    FLOAT(NU_NOTA_CH) NU_NOTA_CH,\n",
        "    FLOAT(NU_NOTA_LC) NU_NOTA_LC,\n",
        "    FLOAT(NU_NOTA_MT) NU_NOTA_MT,\n",
        "    INT(TP_PRESENCA_CN) AS CD_TP_PRESENCA_CN,\n",
        "    INT(TP_PRESENCA_CH) AS CD_TP_PRESENCA_CH,\n",
        "    INT(TP_PRESENCA_LC) AS CD_TP_PRESENCA_LC,\n",
        "    INT(TP_PRESENCA_MT) AS CD_TP_PRESENCA_MT\n",
        "    \n",
        "\n",
        "     FROM VW_ENEM_RAW \n",
        "\n",
        "\"\"\", 15)"
      ],
      "metadata": {
        "colab": {
          "base_uri": "https://localhost:8080/"
        },
        "id": "NyXBijg2SBh1",
        "outputId": "69ba9cb7-e796-4ec1-c7ad-49f71d5b25b4"
      },
      "execution_count": null,
      "outputs": [
        {
          "output_type": "stream",
          "name": "stdout",
          "text": [
            "+------------+----------+----------+----------+----------+-----------+------------+-------------+------------+--------------+----------------+-------------------+---------+-------------+---------------------+---------------------+------------------+------------------+---------------+----------+----------+----------+----------+-----------------+-----------------+-----------------+-----------------+\n",
            "|NU_INSCRICAO|CD_TP_SEXO|SG_TP_SEXO|NM_TP_SEXO|CD_TP_RACA|NM_COR_RACA|CD_TP_ESCOLA|NM_TP_ESCOLA |CD_TP_ENSINO|NM_TP_ENSINO  |CD_MUNICIPIO_ESC|NM_MUNICIPIO_ESC   |CD_UF_ESC|SG_UF_ESC    |CD_TP_LOCALIZACAO_ESC|NM_TP_LOCALIZACAO_ESC|CD_TP_SIT_FUNC_ESC|NM_TP_SIT_FUNC_ESC|NU_NOTA_REDACAO|NU_NOTA_CN|NU_NOTA_CH|NU_NOTA_LC|NU_NOTA_MT|CD_TP_PRESENCA_CN|CD_TP_PRESENCA_CH|CD_TP_PRESENCA_LC|CD_TP_PRESENCA_MT|\n",
            "+------------+----------+----------+----------+----------+-----------+------------+-------------+------------+--------------+----------------+-------------------+---------+-------------+---------------------+---------------------+------------------+------------------+---------------+----------+----------+----------+----------+-----------------+-----------------+-----------------+-----------------+\n",
            "|200006271946|1         |F         |Feminino  |2         |Preta      |1           |Não Respondeu|-1          |Não Respondeu |-1              |Não Respondeu      |-1       |Não Respondeu|-1                   |Não Respondeu        |-1                |Não Respondeu     |null           |null      |null      |null      |null      |0                |0                |0                |0                |\n",
            "|200001195856|2         |M         |Masculino |3         |Parda      |1           |Não Respondeu|-1          |Não Respondeu |-1              |Não Respondeu      |-1       |Não Respondeu|-1                   |Não Respondeu        |-1                |Não Respondeu     |580.0          |604.1     |661.7     |595.3     |711.3     |1                |1                |1                |1                |\n",
            "|200001943954|1         |F         |Feminino  |3         |Parda      |2           |Pública      |1           |Ensino Regular|2927408         |Salvador           |29       |BA           |1                    |Urbana               |1                 |Em atividade      |null           |null      |null      |null      |null      |0                |0                |0                |0                |\n",
            "|200001908998|2         |M         |Masculino |3         |Parda      |2           |Pública      |1           |Ensino Regular|3547304         |Santana de Parnaíba|35       |SP           |1                    |Urbana               |1                 |Em atividade      |760.0          |620.8     |675.0     |624.2     |759.4     |1                |1                |1                |1                |\n",
            "|200001634757|1         |F         |Feminino  |3         |Parda      |1           |Não Respondeu|-1          |Não Respondeu |-1              |Não Respondeu      |-1       |Não Respondeu|-1                   |Não Respondeu        |-1                |Não Respondeu     |null           |null      |null      |null      |null      |0                |0                |0                |0                |\n",
            "|200003132410|1         |F         |Feminino  |3         |Parda      |1           |Não Respondeu|-1          |Não Respondeu |-1              |Não Respondeu      |-1       |Não Respondeu|-1                   |Não Respondeu        |-1                |Não Respondeu     |700.0          |498.1     |604.7     |505.4     |526.7     |1                |1                |1                |1                |\n",
            "|200001379770|2         |M         |Masculino |3         |Parda      |1           |Não Respondeu|-1          |Não Respondeu |-1              |Não Respondeu      |-1       |Não Respondeu|-1                   |Não Respondeu        |-1                |Não Respondeu     |null           |null      |null      |null      |null      |0                |0                |0                |0                |\n",
            "|200001334237|2         |M         |Masculino |1         |Branca     |1           |Não Respondeu|-1          |Não Respondeu |-1              |Não Respondeu      |-1       |Não Respondeu|-1                   |Não Respondeu        |-1                |Não Respondeu     |600.0          |604.6     |604.8     |562.1     |753.2     |1                |1                |1                |1                |\n",
            "|200006762554|1         |F         |Feminino  |3         |Parda      |1           |Não Respondeu|-1          |Não Respondeu |-1              |Não Respondeu      |-1       |Não Respondeu|-1                   |Não Respondeu        |-1                |Não Respondeu     |600.0          |439.7     |383.5     |486.2     |448.5     |1                |1                |1                |1                |\n",
            "|200005146210|2         |M         |Masculino |2         |Preta      |2           |Pública      |1           |Ensino Regular|-1              |Não Respondeu      |-1       |Não Respondeu|-1                   |Não Respondeu        |-1                |Não Respondeu     |null           |null      |null      |null      |null      |0                |0                |0                |0                |\n",
            "|200004902048|2         |M         |Masculino |1         |Branca     |1           |Não Respondeu|-1          |Não Respondeu |-1              |Não Respondeu      |-1       |Não Respondeu|-1                   |Não Respondeu        |-1                |Não Respondeu     |null           |null      |null      |null      |null      |0                |0                |0                |0                |\n",
            "|200006138472|2         |M         |Masculino |1         |Branca     |1           |Não Respondeu|-1          |Não Respondeu |-1              |Não Respondeu      |-1       |Não Respondeu|-1                   |Não Respondeu        |-1                |Não Respondeu     |640.0          |491.1     |631.4     |627.9     |546.5     |1                |1                |1                |1                |\n",
            "|200005613689|1         |F         |Feminino  |3         |Parda      |1           |Não Respondeu|-1          |Não Respondeu |-1              |Não Respondeu      |-1       |Não Respondeu|-1                   |Não Respondeu        |-1                |Não Respondeu     |null           |null      |null      |null      |null      |0                |0                |0                |0                |\n",
            "|200004833505|1         |F         |Feminino  |2         |Preta      |1           |Não Respondeu|-1          |Não Respondeu |-1              |Não Respondeu      |-1       |Não Respondeu|-1                   |Não Respondeu        |-1                |Não Respondeu     |null           |null      |null      |null      |null      |0                |0                |0                |0                |\n",
            "|200004570764|2         |M         |Masculino |2         |Preta      |1           |Não Respondeu|-1          |Não Respondeu |-1              |Não Respondeu      |-1       |Não Respondeu|-1                   |Não Respondeu        |-1                |Não Respondeu     |null           |null      |null      |null      |null      |0                |0                |0                |0                |\n",
            "+------------+----------+----------+----------+----------+-----------+------------+-------------+------------+--------------+----------------+-------------------+---------+-------------+---------------------+---------------------+------------------+------------------+---------------+----------+----------+----------+----------+-----------------+-----------------+-----------------+-----------------+\n",
            "only showing top 15 rows\n",
            "\n"
          ]
        }
      ]
    },
    {
      "cell_type": "code",
      "source": [
        "#Atribuindo a query em um dataframe \n",
        "df_enem_raw_to_trusted = spark.sql(\"\"\"\n",
        "\n",
        "SELECT   \n",
        "\n",
        "    BIGINT(NU_INSCRICAO) AS NU_INSCRICAO, \n",
        "    CASE \n",
        "      WHEN TP_SEXO = 'F' THEN 1\n",
        "      WHEN TP_SEXO = 'M' THEN 2\n",
        "      ELSE -1\n",
        "    END CD_TP_SEXO,\n",
        "    TP_SEXO AS SG_TP_SEXO, \n",
        "    CASE \n",
        "      WHEN TP_SEXO = 'F' THEN 'Feminino'\n",
        "      WHEN TP_SEXO = 'M' THEN 'Masculino'\n",
        "      ELSE 'Não Declarado'\n",
        "    END NM_TP_SEXO,\n",
        "    IFNULL(INT(TP_COR_RACA), -1) AS CD_TP_RACA,\n",
        "    CASE \n",
        "      WHEN TP_COR_RACA = 0 THEN 'Não Declarado'\n",
        "      WHEN TP_COR_RACA = 1 THEN 'Branca'\n",
        "      WHEN TP_COR_RACA = 2 THEN 'Preta'\n",
        "      WHEN TP_COR_RACA = 3 THEN 'Parda'\n",
        "      WHEN TP_COR_RACA = 4 THEN 'Amarela'\n",
        "      WHEN TP_COR_RACA = 5 THEN 'Indígena'\n",
        "    END NM_COR_RACA,\n",
        "    IFNULL(INT(TP_ESCOLA), -1) AS CD_TP_ESCOLA,\n",
        "    CASE\n",
        "      WHEN TP_ESCOLA = 1 THEN 'Não Respondeu'\n",
        "      WHEN TP_ESCOLA = 2 THEN 'Pública'\n",
        "      WHEN TP_ESCOLA = 3 THEN 'Privada'\n",
        "      WHEN TP_ESCOLA = 4 THEN 'Exterior'\n",
        "    END NM_TP_ESCOLA,\n",
        "    IFNULL(INT(TP_ENSINO), -1) AS CD_TP_ENSINO,\n",
        "    CASE \n",
        "      WHEN TP_ENSINO = 1 THEN 'Ensino Regular'\n",
        "      WHEN TP_ENSINO = 2 THEN 'Educação Especial - Modalidade Substitutiva'\n",
        "      WHEN TP_ENSINO = 3 THEN 'Educação de Jovens e Adultos'\n",
        "      ELSE 'Não Respondeu'\n",
        "    END NM_TP_ENSINO, \n",
        "    IFNULL(INT(CO_MUNICIPIO_ESC), -1) AS CD_MUNICIPIO_ESC,\n",
        "    IFNULL(NO_MUNICIPIO_ESC, 'Não Respondeu') AS NM_MUNICIPIO_ESC,\n",
        "    IFNULL(INT(CO_UF_ESC), -1) AS CD_UF_ESC,\n",
        "    IFNULL(SG_UF_ESC, 'Não Respondeu') SG_UF_ESC,\n",
        "    IFNULL(INT(TP_LOCALIZACAO_ESC), -1) AS CD_TP_LOCALIZACAO_ESC,\n",
        "    CASE \n",
        "        WHEN TP_LOCALIZACAO_ESC = 1 THEN 'Urbana'\n",
        "        WHEN TP_LOCALIZACAO_ESC = 2 THEN 'Rural'\n",
        "        ELSE 'Não Respondeu'\n",
        "    END NM_TP_LOCALIZACAO_ESC,\n",
        "    IFNULL(INT(TP_SIT_FUNC_ESC), -1) AS CD_TP_SIT_FUNC_ESC,\n",
        "    CASE \n",
        "         WHEN TP_SIT_FUNC_ESC = 1 THEN 'Em atividade'\n",
        "         WHEN TP_SIT_FUNC_ESC = 2 THEN 'Paralisada'\n",
        "         WHEN TP_SIT_FUNC_ESC = 3 THEN 'Extinta'\n",
        "         WHEN TP_SIT_FUNC_ESC = 4 THEN 'Escola extinta em anos anteriores'\n",
        "        ELSE 'Não Respondeu'\n",
        "    END NM_TP_SIT_FUNC_ESC,\n",
        "    FLOAT(NU_NOTA_REDACAO) NU_NOTA_REDACAO,\n",
        "    FLOAT(NU_NOTA_CN) NU_NOTA_CN,\n",
        "    FLOAT(NU_NOTA_CH) NU_NOTA_CH,\n",
        "    FLOAT(NU_NOTA_LC) NU_NOTA_LC,\n",
        "    FLOAT(NU_NOTA_MT) NU_NOTA_MT,\n",
        "    INT(TP_PRESENCA_CN) AS CD_TP_PRESENCA_CN,\n",
        "    INT(TP_PRESENCA_CH) AS CD_TP_PRESENCA_CH,\n",
        "    INT(TP_PRESENCA_LC) AS CD_TP_PRESENCA_LC,\n",
        "    INT(TP_PRESENCA_MT) AS CD_TP_PRESENCA_MT\n",
        "    \n",
        "     FROM VW_ENEM_RAW\n",
        "\n",
        " \n",
        "\"\"\")"
      ],
      "metadata": {
        "id": "zssU9mFoTakx"
      },
      "execution_count": null,
      "outputs": []
    },
    {
      "cell_type": "code",
      "source": [
        "df_enem_raw_to_trusted.printSchema()"
      ],
      "metadata": {
        "colab": {
          "base_uri": "https://localhost:8080/"
        },
        "id": "OiZ9zFh60L_2",
        "outputId": "56a50f89-e360-45cd-9065-8a18e8175bd9"
      },
      "execution_count": null,
      "outputs": [
        {
          "output_type": "stream",
          "name": "stdout",
          "text": [
            "root\n",
            " |-- NU_INSCRICAO: long (nullable = true)\n",
            " |-- CD_TP_SEXO: integer (nullable = false)\n",
            " |-- SG_TP_SEXO: string (nullable = true)\n",
            " |-- NM_TP_SEXO: string (nullable = false)\n",
            " |-- CD_TP_RACA: integer (nullable = false)\n",
            " |-- NM_COR_RACA: string (nullable = true)\n",
            " |-- CD_TP_ESCOLA: integer (nullable = false)\n",
            " |-- NM_TP_ESCOLA: string (nullable = true)\n",
            " |-- CD_TP_ENSINO: integer (nullable = false)\n",
            " |-- NM_TP_ENSINO: string (nullable = false)\n",
            " |-- CD_MUNICIPIO_ESC: integer (nullable = false)\n",
            " |-- NM_MUNICIPIO_ESC: string (nullable = false)\n",
            " |-- CD_UF_ESC: integer (nullable = false)\n",
            " |-- SG_UF_ESC: string (nullable = false)\n",
            " |-- CD_TP_LOCALIZACAO_ESC: integer (nullable = false)\n",
            " |-- NM_TP_LOCALIZACAO_ESC: string (nullable = false)\n",
            " |-- CD_TP_SIT_FUNC_ESC: integer (nullable = false)\n",
            " |-- NM_TP_SIT_FUNC_ESC: string (nullable = false)\n",
            " |-- NU_NOTA_REDACAO: float (nullable = true)\n",
            " |-- NU_NOTA_CN: float (nullable = true)\n",
            " |-- NU_NOTA_CH: float (nullable = true)\n",
            " |-- NU_NOTA_LC: float (nullable = true)\n",
            " |-- NU_NOTA_MT: float (nullable = true)\n",
            " |-- CD_TP_PRESENCA_CN: integer (nullable = true)\n",
            " |-- CD_TP_PRESENCA_CH: integer (nullable = true)\n",
            " |-- CD_TP_PRESENCA_LC: integer (nullable = true)\n",
            " |-- CD_TP_PRESENCA_MT: integer (nullable = true)\n",
            "\n"
          ]
        }
      ]
    },
    {
      "cell_type": "markdown",
      "source": [
        "Após os tratamentos, pode-se observar que a tipagem das colunas foi corrigida tornando possível maior confiabilidade nos dados, além da possibilidade de armazenamento dos dados em um local confiável e centralizado."
      ],
      "metadata": {
        "id": "sr1Ta5KDTjQt"
      }
    },
    {
      "cell_type": "markdown",
      "source": [
        "## Gravando o dataframe tratado na camada Trusted"
      ],
      "metadata": {
        "id": "FuGZPqyu2q1W"
      }
    },
    {
      "cell_type": "code",
      "source": [
        "df_enem_raw_to_trusted.write.mode('overwrite').parquet(path_trusted + \"enem/\")"
      ],
      "metadata": {
        "id": "vIinDnDp0O01"
      },
      "execution_count": null,
      "outputs": []
    },
    {
      "cell_type": "markdown",
      "source": [
        "## Realizando leitura na camada Trusted e selecionando apenas as colunas necessárias para modelagem dimensional"
      ],
      "metadata": {
        "id": "8exW5XVC3fQG"
      }
    },
    {
      "cell_type": "code",
      "source": [
        "%%html\n",
        "<center><iframe width=\"1000\" height=\"640\" src='https://dbdiagram.io/embed/62db19290d66c746553296b7'> </iframe></center>"
      ],
      "metadata": {
        "id": "OH_G5bmYmodI",
        "colab": {
          "base_uri": "https://localhost:8080/",
          "height": 685
        },
        "outputId": "8a25995f-69b7-4e69-e8e0-20e2d78df6da"
      },
      "execution_count": null,
      "outputs": [
        {
          "output_type": "display_data",
          "data": {
            "text/plain": [
              "<IPython.core.display.HTML object>"
            ],
            "text/html": [
              "<center><iframe width=\"1000\" height=\"640\" src='https://dbdiagram.io/embed/62db19290d66c746553296b7'> </iframe></center>"
            ]
          },
          "metadata": {}
        }
      ]
    },
    {
      "cell_type": "markdown",
      "source": [
        "### FATO_ENEM"
      ],
      "metadata": {
        "id": "EcI7I1fD7eHc"
      }
    },
    {
      "cell_type": "code",
      "source": [
        "df_fato_enem = spark.read.load(path = path_trusted + 'enem/*.parquet', format='parquet')"
      ],
      "metadata": {
        "id": "EuJ5XTQb7WIt"
      },
      "execution_count": null,
      "outputs": []
    },
    {
      "cell_type": "code",
      "source": [
        "df_fato_enem.show()"
      ],
      "metadata": {
        "colab": {
          "base_uri": "https://localhost:8080/"
        },
        "id": "T257pCgUHERK",
        "outputId": "f42e6102-6ec4-4fba-99fb-c9735be64f80"
      },
      "execution_count": null,
      "outputs": [
        {
          "output_type": "stream",
          "name": "stdout",
          "text": [
            "+------------+----------+----------+----------+----------+-------------+------------+-------------+------------+--------------+----------------+----------------+---------+-------------+---------------------+---------------------+------------------+------------------+---------------+----------+----------+----------+----------+-----------------+-----------------+-----------------+-----------------+\n",
            "|NU_INSCRICAO|CD_TP_SEXO|SG_TP_SEXO|NM_TP_SEXO|CD_TP_RACA|  NM_COR_RACA|CD_TP_ESCOLA| NM_TP_ESCOLA|CD_TP_ENSINO|  NM_TP_ENSINO|CD_MUNICIPIO_ESC|NM_MUNICIPIO_ESC|CD_UF_ESC|    SG_UF_ESC|CD_TP_LOCALIZACAO_ESC|NM_TP_LOCALIZACAO_ESC|CD_TP_SIT_FUNC_ESC|NM_TP_SIT_FUNC_ESC|NU_NOTA_REDACAO|NU_NOTA_CN|NU_NOTA_CH|NU_NOTA_LC|NU_NOTA_MT|CD_TP_PRESENCA_CN|CD_TP_PRESENCA_CH|CD_TP_PRESENCA_LC|CD_TP_PRESENCA_MT|\n",
            "+------------+----------+----------+----------+----------+-------------+------------+-------------+------------+--------------+----------------+----------------+---------+-------------+---------------------+---------------------+------------------+------------------+---------------+----------+----------+----------+----------+-----------------+-----------------+-----------------+-----------------+\n",
            "|200006175753|         2|         M| Masculino|         3|        Parda|           1|Não Respondeu|          -1| Não Respondeu|              -1|   Não Respondeu|       -1|Não Respondeu|                   -1|        Não Respondeu|                -1|     Não Respondeu|           null|      null|      null|      null|      null|                0|                0|                0|                0|\n",
            "|200003395772|         1|         F|  Feminino|         1|       Branca|           3|      Privada|           1|Ensino Regular|         3527207|          Lorena|       35|           SP|                    1|               Urbana|                 1|      Em atividade|          940.0|     592.9|     576.9|     571.0|     600.6|                1|                1|                1|                1|\n",
            "|200004820498|         1|         F|  Feminino|         4|      Amarela|           1|Não Respondeu|          -1| Não Respondeu|              -1|   Não Respondeu|       -1|Não Respondeu|                   -1|        Não Respondeu|                -1|     Não Respondeu|           null|      null|      null|      null|      null|                0|                0|                0|                0|\n",
            "|200002015061|         1|         F|  Feminino|         1|       Branca|           1|Não Respondeu|          -1| Não Respondeu|              -1|   Não Respondeu|       -1|Não Respondeu|                   -1|        Não Respondeu|                -1|     Não Respondeu|          540.0|     384.2|     544.7|     535.0|     390.3|                1|                1|                1|                1|\n",
            "|200003980346|         2|         M| Masculino|         1|       Branca|           1|Não Respondeu|          -1| Não Respondeu|              -1|   Não Respondeu|       -1|Não Respondeu|                   -1|        Não Respondeu|                -1|     Não Respondeu|           null|      null|      null|      null|      null|                0|                0|                0|                0|\n",
            "|200006008472|         2|         M| Masculino|         1|       Branca|           1|Não Respondeu|          -1| Não Respondeu|              -1|   Não Respondeu|       -1|Não Respondeu|                   -1|        Não Respondeu|                -1|     Não Respondeu|           null|      null|      null|      null|      null|                0|                0|                0|                0|\n",
            "|200003980334|         1|         F|  Feminino|         1|       Branca|           1|Não Respondeu|          -1| Não Respondeu|              -1|   Não Respondeu|       -1|Não Respondeu|                   -1|        Não Respondeu|                -1|     Não Respondeu|           null|      null|      null|      null|      null|                0|                0|                0|                0|\n",
            "|200001559783|         2|         M| Masculino|         1|       Branca|           1|Não Respondeu|          -1| Não Respondeu|              -1|   Não Respondeu|       -1|Não Respondeu|                   -1|        Não Respondeu|                -1|     Não Respondeu|          580.0|     479.5|     555.6|     532.5|     518.8|                1|                1|                1|                1|\n",
            "|200003873588|         2|         M| Masculino|         2|        Preta|           1|Não Respondeu|          -1| Não Respondeu|              -1|   Não Respondeu|       -1|Não Respondeu|                   -1|        Não Respondeu|                -1|     Não Respondeu|           null|      null|      null|      null|      null|                0|                0|                0|                0|\n",
            "|200005565443|         1|         F|  Feminino|         3|        Parda|           1|Não Respondeu|          -1| Não Respondeu|              -1|   Não Respondeu|       -1|Não Respondeu|                   -1|        Não Respondeu|                -1|     Não Respondeu|           null|      null|      null|      null|      null|                0|                0|                0|                0|\n",
            "|200002137483|         1|         F|  Feminino|         1|       Branca|           1|Não Respondeu|          -1| Não Respondeu|              -1|   Não Respondeu|       -1|Não Respondeu|                   -1|        Não Respondeu|                -1|     Não Respondeu|           null|      null|      null|      null|      null|                0|                0|                0|                0|\n",
            "|200002009454|         1|         F|  Feminino|         3|        Parda|           1|Não Respondeu|          -1| Não Respondeu|              -1|   Não Respondeu|       -1|Não Respondeu|                   -1|        Não Respondeu|                -1|     Não Respondeu|           null|      null|      null|      null|      null|                0|                0|                0|                0|\n",
            "|200002757479|         2|         M| Masculino|         0|Não Declarado|           1|Não Respondeu|          -1| Não Respondeu|              -1|   Não Respondeu|       -1|Não Respondeu|                   -1|        Não Respondeu|                -1|     Não Respondeu|          520.0|      null|     380.8|     382.0|      null|                0|                1|                1|                0|\n",
            "|200003320504|         2|         M| Masculino|         1|       Branca|           1|Não Respondeu|          -1| Não Respondeu|              -1|   Não Respondeu|       -1|Não Respondeu|                   -1|        Não Respondeu|                -1|     Não Respondeu|          800.0|     554.0|     600.0|     548.6|     653.2|                1|                1|                1|                1|\n",
            "|200003925001|         1|         F|  Feminino|         1|       Branca|           1|Não Respondeu|          -1| Não Respondeu|              -1|   Não Respondeu|       -1|Não Respondeu|                   -1|        Não Respondeu|                -1|     Não Respondeu|           null|      null|      null|      null|      null|                0|                0|                0|                0|\n",
            "|200002364586|         1|         F|  Feminino|         3|        Parda|           1|Não Respondeu|          -1| Não Respondeu|              -1|   Não Respondeu|       -1|Não Respondeu|                   -1|        Não Respondeu|                -1|     Não Respondeu|          520.0|     537.2|     529.6|     645.6|     436.3|                1|                1|                1|                1|\n",
            "|200005113310|         2|         M| Masculino|         1|       Branca|           2|      Pública|           1|Ensino Regular|         4119905|    Ponta Grossa|       41|           PR|                    1|               Urbana|                 1|      Em atividade|          580.0|     571.9|     606.1|     582.3|     682.5|                1|                1|                1|                1|\n",
            "|200003959883|         2|         M| Masculino|         3|        Parda|           1|Não Respondeu|          -1| Não Respondeu|              -1|   Não Respondeu|       -1|Não Respondeu|                   -1|        Não Respondeu|                -1|     Não Respondeu|           null|      null|      null|      null|      null|                0|                0|                0|                0|\n",
            "|200001825507|         2|         M| Masculino|         3|        Parda|           1|Não Respondeu|          -1| Não Respondeu|              -1|   Não Respondeu|       -1|Não Respondeu|                   -1|        Não Respondeu|                -1|     Não Respondeu|           null|      null|      null|      null|      null|                0|                0|                0|                0|\n",
            "|200006472329|         1|         F|  Feminino|         3|        Parda|           1|Não Respondeu|          -1| Não Respondeu|              -1|   Não Respondeu|       -1|Não Respondeu|                   -1|        Não Respondeu|                -1|     Não Respondeu|           null|      null|      null|      null|      null|                0|                0|                0|                0|\n",
            "+------------+----------+----------+----------+----------+-------------+------------+-------------+------------+--------------+----------------+----------------+---------+-------------+---------------------+---------------------+------------------+------------------+---------------+----------+----------+----------+----------+-----------------+-----------------+-----------------+-----------------+\n",
            "only showing top 20 rows\n",
            "\n"
          ]
        }
      ]
    },
    {
      "cell_type": "code",
      "source": [
        "df_fato_enem = df_fato_enem.select(\n",
        "\n",
        "\"CD_TP_SEXO\",\n",
        "\"CD_TP_RACA\",\n",
        "\"CD_TP_ESCOLA\",\n",
        "\"CD_TP_ENSINO\",\n",
        "\"CD_MUNICIPIO_ESC\",\n",
        "\"CD_UF_ESC\",\n",
        "\"CD_TP_LOCALIZACAO_ESC\",\n",
        "\"CD_TP_SIT_FUNC_ESC\",\n",
        "\"NU_INSCRICAO\",\n",
        "\"NU_NOTA_REDACAO\",\n",
        "\"NU_NOTA_CN\",\n",
        "\"NU_NOTA_CH\",\n",
        "\"NU_NOTA_LC\",\n",
        "\"NU_NOTA_MT\",\n",
        "\"CD_TP_PRESENCA_CN\",\n",
        "\"CD_TP_PRESENCA_CH\",\n",
        "\"CD_TP_PRESENCA_LC\",\n",
        "\"CD_TP_PRESENCA_MT\"\n",
        "\n",
        ")"
      ],
      "metadata": {
        "id": "gRQ4DRIp7iSl"
      },
      "execution_count": null,
      "outputs": []
    },
    {
      "cell_type": "code",
      "source": [
        "df_fato_enem.write.mode('overwrite').parquet(path_refined + \"fatos/fato_enem\")"
      ],
      "metadata": {
        "id": "NHJnMfxj7lBU"
      },
      "execution_count": null,
      "outputs": []
    },
    {
      "cell_type": "markdown",
      "source": [
        "### DM_SEXO"
      ],
      "metadata": {
        "id": "nixsfP1J69iV"
      }
    },
    {
      "cell_type": "code",
      "source": [
        "df_dm_sexo = spark.read.load(path = path_trusted + 'enem/*.parquet', format='parquet')"
      ],
      "metadata": {
        "id": "FW1Hgp3S5rV8"
      },
      "execution_count": null,
      "outputs": []
    },
    {
      "cell_type": "code",
      "source": [
        "df_dm_sexo = df_dm_sexo.select(\"CD_TP_SEXO\", \"SG_TP_SEXO\", \"NM_TP_SEXO\").distinct()"
      ],
      "metadata": {
        "id": "zc8DUN-97DHo"
      },
      "execution_count": null,
      "outputs": []
    },
    {
      "cell_type": "code",
      "source": [
        "df_dm_sexo.write.mode('overwrite').parquet(path_refined + \"dimensoes/dm_sexo\")"
      ],
      "metadata": {
        "id": "fXt04BmeFgYP"
      },
      "execution_count": null,
      "outputs": []
    },
    {
      "cell_type": "markdown",
      "source": [
        "### DM_ETNIA"
      ],
      "metadata": {
        "id": "MvOzC-3G_DSB"
      }
    },
    {
      "cell_type": "code",
      "source": [
        "df_dm_etnia = spark.read.load(path = path_trusted + 'enem/*.parquet', format='parquet')"
      ],
      "metadata": {
        "id": "CF0k0WPh7GWG"
      },
      "execution_count": null,
      "outputs": []
    },
    {
      "cell_type": "code",
      "source": [
        "df_dm_etnia = df_dm_etnia.select(\"CD_TP_RACA\", \"NM_COR_RACA\").distinct()"
      ],
      "metadata": {
        "id": "pN34f88A7T7F"
      },
      "execution_count": null,
      "outputs": []
    },
    {
      "cell_type": "code",
      "source": [
        "df_dm_etnia.write.mode('overwrite').parquet(path_refined + \"dimensoes/dm_etnia\")"
      ],
      "metadata": {
        "id": "qJXRPaMP-7GM"
      },
      "execution_count": null,
      "outputs": []
    },
    {
      "cell_type": "markdown",
      "source": [
        "### DM_TP_ESCOLA"
      ],
      "metadata": {
        "id": "opgdoKAA5f6B"
      }
    },
    {
      "cell_type": "code",
      "source": [
        "df_dm_tp_escola = spark.read.load(path = path_trusted + 'enem/*.parquet', format='parquet')"
      ],
      "metadata": {
        "id": "MYqIp3Fw3AuH"
      },
      "execution_count": null,
      "outputs": []
    },
    {
      "cell_type": "code",
      "source": [
        "df_dm_tp_escola = df_dm_tp_escola.select(\"CD_TP_ESCOLA\",\"NM_TP_ESCOLA\").distinct()"
      ],
      "metadata": {
        "id": "n2Gy5eVm3viu"
      },
      "execution_count": null,
      "outputs": []
    },
    {
      "cell_type": "code",
      "source": [
        "df_dm_tp_escola.write.mode('overwrite').parquet(path_refined + \"dimensoes/dm_tp_escola\")"
      ],
      "metadata": {
        "id": "VwlmaHac-oC_"
      },
      "execution_count": null,
      "outputs": []
    },
    {
      "cell_type": "markdown",
      "source": [
        "### DM_TP_ENSINO"
      ],
      "metadata": {
        "id": "3DY_TnJJ_M-K"
      }
    },
    {
      "cell_type": "code",
      "source": [
        "df_dm_tp_ensino = spark.read.load(path = path_trusted + 'enem/*.parquet', format='parquet')"
      ],
      "metadata": {
        "id": "8mYnU7Pc46Sz"
      },
      "execution_count": null,
      "outputs": []
    },
    {
      "cell_type": "code",
      "source": [
        "df_dm_tp_ensino = df_dm_tp_ensino.select(\"CD_TP_ENSINO\", \"NM_TP_ENSINO\").distinct()"
      ],
      "metadata": {
        "id": "KsOfqljj5kYH"
      },
      "execution_count": null,
      "outputs": []
    },
    {
      "cell_type": "code",
      "source": [
        "df_dm_tp_ensino.write.mode('overwrite').parquet(path_refined + \"dimensoes/dm_tp_ensino\")"
      ],
      "metadata": {
        "id": "SWgRsWGv_TUM"
      },
      "execution_count": null,
      "outputs": []
    },
    {
      "cell_type": "markdown",
      "source": [
        "### DM_UF_ESC"
      ],
      "metadata": {
        "id": "hwPYXuDY_piy"
      }
    },
    {
      "cell_type": "code",
      "source": [
        "df_dm_uf_escola = spark.read.load(path = path_trusted + 'enem/*.parquet', format='parquet')"
      ],
      "metadata": {
        "id": "kTW8LOew_rC0"
      },
      "execution_count": null,
      "outputs": []
    },
    {
      "cell_type": "code",
      "source": [
        "df_dm_uf_escola = df_dm_uf_escola.select(\"CD_UF_ESC\", \"SG_UF_ESC\").distinct()"
      ],
      "metadata": {
        "id": "lM99ITmc_tXs"
      },
      "execution_count": null,
      "outputs": []
    },
    {
      "cell_type": "code",
      "source": [
        "df_dm_uf_escola.write.mode('overwrite').parquet(path_refined + \"dimensoes/dm_uf\")"
      ],
      "metadata": {
        "id": "3s6iNTYoHNDq"
      },
      "execution_count": null,
      "outputs": []
    },
    {
      "cell_type": "markdown",
      "source": [
        "### DM_MUNICIPIO_ESC"
      ],
      "metadata": {
        "id": "Nr0MDqMR_8V9"
      }
    },
    {
      "cell_type": "code",
      "source": [
        "df_dm_municipio_esc = spark.read.load(path = path_trusted + 'enem/*.parquet', format='parquet')"
      ],
      "metadata": {
        "id": "i7HNNg_j_wIt"
      },
      "execution_count": null,
      "outputs": []
    },
    {
      "cell_type": "code",
      "source": [
        "df_dm_municipio_esc = df_dm_municipio_esc.select(\"CD_MUNICIPIO_ESC\", \"NM_MUNICIPIO_ESC\").distinct()"
      ],
      "metadata": {
        "id": "GHFMzQxFACvL"
      },
      "execution_count": null,
      "outputs": []
    },
    {
      "cell_type": "code",
      "source": [
        "df_dm_municipio_esc.write.mode('overwrite').parquet(path_refined + \"dimensoes/dm_municipio\")"
      ],
      "metadata": {
        "id": "w3ZSBOF3HWq7"
      },
      "execution_count": null,
      "outputs": []
    },
    {
      "cell_type": "markdown",
      "source": [
        "### DM_LOCALIZACAO_ESC"
      ],
      "metadata": {
        "id": "tsjhY4IQAevR"
      }
    },
    {
      "cell_type": "code",
      "source": [
        "df_dm_localizacao_esc = spark.read.load(path = path_trusted + 'enem/*.parquet', format='parquet')"
      ],
      "metadata": {
        "id": "nWpwUNxfAHZT"
      },
      "execution_count": null,
      "outputs": []
    },
    {
      "cell_type": "code",
      "source": [
        "df_dm_localizacao_esc = df_dm_localizacao_esc.select(\"CD_TP_LOCALIZACAO_ESC\", \"NM_TP_LOCALIZACAO_ESC\").distinct()"
      ],
      "metadata": {
        "id": "TG2-_dOKAnZp"
      },
      "execution_count": null,
      "outputs": []
    },
    {
      "cell_type": "code",
      "source": [
        "df_dm_localizacao_esc.write.mode('overwrite').parquet(path_refined + \"dimensoes/dm_localizacao_esc\")"
      ],
      "metadata": {
        "id": "zkEbdoQ8Hqtz"
      },
      "execution_count": null,
      "outputs": []
    },
    {
      "cell_type": "markdown",
      "source": [
        "### DM_SITUACAO_ESCOLA"
      ],
      "metadata": {
        "id": "FcP3MQ83A0Qq"
      }
    },
    {
      "cell_type": "code",
      "source": [
        "df_dm_situacao_escola = spark.read.load(path = path_trusted + 'enem/*.parquet', format='parquet')"
      ],
      "metadata": {
        "id": "F6SIt4mKApzR"
      },
      "execution_count": null,
      "outputs": []
    },
    {
      "cell_type": "code",
      "source": [
        "df_dm_situacao_escola = df_dm_situacao_escola.select(\"CD_TP_SIT_FUNC_ESC\", \"NM_TP_SIT_FUNC_ESC\").distinct()"
      ],
      "metadata": {
        "id": "lWb-B0S6A8Fh"
      },
      "execution_count": null,
      "outputs": []
    },
    {
      "cell_type": "code",
      "source": [
        "df_dm_situacao_escola.write.mode('overwrite').parquet(path_refined + \"dimensoes/dm_situacao_esc\")"
      ],
      "metadata": {
        "id": "fSMY3AcxHzZq"
      },
      "execution_count": null,
      "outputs": []
    },
    {
      "cell_type": "markdown",
      "source": [
        "### DM_TP_PRESENCA"
      ],
      "metadata": {
        "id": "yvvgooBmBSnp"
      }
    },
    {
      "cell_type": "code",
      "source": [
        "df_dm_tp_presenca = spark.sql(\"\"\"\n",
        "\n",
        "SELECT \n",
        "      0 AS CD_TP_PRESENCA, \n",
        "      'Faltou à prova' AS NM_TP_PRESENCA\n",
        "UNION\n",
        "\n",
        "SELECT \n",
        "      1 AS CD_TP_PRESENCA, \n",
        "      'Presente na prova' AS NM_TP_PRESENCA\n",
        "\n",
        "UNION\n",
        "\n",
        "SELECT \n",
        "      2 AS CD_TP_PRESENCA, \n",
        "      'Eliminado na prova' AS NM_TP_PRESENCA\n",
        "\n",
        "\"\"\")\n"
      ],
      "metadata": {
        "id": "IFctTDg-A92h"
      },
      "execution_count": null,
      "outputs": []
    },
    {
      "cell_type": "code",
      "source": [
        "df_dm_tp_presenca.show()"
      ],
      "metadata": {
        "colab": {
          "base_uri": "https://localhost:8080/"
        },
        "id": "ydY82cFhImY7",
        "outputId": "ea88b3c9-8ba7-4d49-b66f-84379d478bcc"
      },
      "execution_count": null,
      "outputs": [
        {
          "output_type": "stream",
          "name": "stdout",
          "text": [
            "+--------------+------------------+\n",
            "|CD_TP_PRESENCA|    NM_TP_PRESENCA|\n",
            "+--------------+------------------+\n",
            "|             0|    Faltou à prova|\n",
            "|             1| Presente na prova|\n",
            "|             2|Eliminado na prova|\n",
            "+--------------+------------------+\n",
            "\n"
          ]
        }
      ]
    },
    {
      "cell_type": "code",
      "source": [
        "df_dm_tp_presenca.write.mode('overwrite').parquet(path_refined + \"dimensoes/dm_tp_presenca\")"
      ],
      "metadata": {
        "id": "eJ-RXZFRB2qp"
      },
      "execution_count": null,
      "outputs": []
    },
    {
      "cell_type": "markdown",
      "source": [
        "## Leitura na camada Refined"
      ],
      "metadata": {
        "id": "CRtMbDMKRFuY"
      }
    },
    {
      "cell_type": "code",
      "source": [
        "df_dm_etnia = spark.read.load(path= path_refined + 'dimensoes/dm_etnia/*.parquet', format='parquet')\n",
        "df_dm_localizacao_esc = spark.read.load(path= path_refined + 'dimensoes/dm_localizacao_esc/*.parquet', format='parquet')\n",
        "df_dm_municipio = spark.read.load(path= path_refined + 'dimensoes/dm_municipio/*.parquet', format='parquet')\n",
        "df_dm_sexo = spark.read.load(path= path_refined + 'dimensoes/dm_sexo/*.parquet', format='parquet')\n",
        "df_dm_situacao_esc = spark.read.load(path= path_refined + 'dimensoes/dm_situacao_esc/*.parquet', format='parquet')\n",
        "df_dm_tp_ensino = spark.read.load(path= path_refined + 'dimensoes/dm_tp_ensino/*.parquet', format='parquet')\n",
        "df_dm_tp_escola = spark.read.load(path= path_refined + 'dimensoes/dm_tp_escola/*.parquet', format='parquet')\n",
        "df_dm_tp_presenca = spark.read.load(path= path_refined + 'dimensoes/dm_tp_presenca/*.parquet', format='parquet')\n",
        "df_dm_uf = spark.read.load(path= path_refined + 'dimensoes/dm_uf/*.parquet', format='parquet')\n",
        "df_fato_enem = spark.read.load(path= path_refined + 'fatos/fato_enem/*.parquet', format='parquet')"
      ],
      "metadata": {
        "id": "fT4cYv8EREmq"
      },
      "execution_count": null,
      "outputs": []
    },
    {
      "cell_type": "code",
      "source": [
        "df_dm_etnia.createOrReplaceTempView(\"VW_DM_ETNIA\")\n",
        "df_dm_localizacao_esc.createOrReplaceTempView(\"VW_DM_LOCALIZACAO_ESC\")\n",
        "df_dm_municipio.createOrReplaceTempView(\"VW_DM_MUNICIPIO\")\n",
        "df_dm_sexo.createOrReplaceTempView(\"VW_DM_SEXO\")\n",
        "df_dm_situacao_esc.createOrReplaceTempView(\"VW_DM_SITUACAO_ESC\")\n",
        "df_dm_tp_ensino.createOrReplaceTempView(\"VW_DM_TP_ENSINO\")\n",
        "df_dm_tp_escola.createOrReplaceTempView(\"VW_DM_TP_ESCOLA\")\n",
        "df_dm_tp_presenca.createOrReplaceTempView(\"VW_DM_TP_PRESENCA\")\n",
        "df_dm_uf.createOrReplaceTempView(\"VW_DM_UF\")\n",
        "df_fato_enem.createOrReplaceTempView(\"VW_FATO_ENEM\")"
      ],
      "metadata": {
        "id": "X5oc3naOREzl"
      },
      "execution_count": null,
      "outputs": []
    },
    {
      "cell_type": "markdown",
      "source": [
        "## Respondendo as Perguntas\n",
        "\n",
        "- Qual a escola com a maior média de notas?\n",
        "- Qual o aluno com a maior média de notas e o valor dessa média?\n",
        "- Qual a média geral?\n",
        "- Qual o % de Ausentes?\n",
        "- Qual o número total de Inscritos?\n",
        "- Qual a média por disciplina?\n",
        "- Qual a média por Sexo?\n",
        "- Qual a média por Etnia?\n"
      ],
      "metadata": {
        "id": "nqdtodBPTmoG"
      }
    },
    {
      "cell_type": "markdown",
      "source": [
        "### 1- Qual a escola com a maior média de notas?"
      ],
      "metadata": {
        "id": "xO8RYIlIUBhO"
      }
    },
    {
      "cell_type": "code",
      "source": [
        "fn_query(\"\"\"\n",
        "\n",
        "\n",
        "SELECT \n",
        "\n",
        "TPE.NM_TP_ESCOLA,\n",
        "TPENS.NM_TP_ENSINO,\n",
        "UFES.SG_UF_ESC,\n",
        "SITES.NM_TP_SIT_FUNC_ESC,      \n",
        "AVG( F.NU_NOTA_REDACAO + F.NU_NOTA_CN + F.NU_NOTA_CH + F.NU_NOTA_LC + F.NU_NOTA_MT ) / 5 MEDIA\n",
        "\n",
        " FROM VW_FATO_ENEM F \n",
        "\n",
        "  INNER JOIN VW_DM_TP_ESCOLA TPE\n",
        "    ON F.CD_TP_ESCOLA = TPE.CD_TP_ESCOLA\n",
        "\n",
        "  INNER JOIN VW_DM_TP_ENSINO TPENS\n",
        "    ON F.CD_TP_ENSINO = TPENS.CD_TP_ENSINO\n",
        "\n",
        "  INNER JOIN VW_DM_UF UFES\n",
        "    ON F.CD_UF_ESC = UFES.CD_UF_ESC\n",
        "\n",
        "  INNER JOIN VW_DM_SITUACAO_ESC SITES\n",
        "    ON F.CD_TP_SIT_FUNC_ESC = SITES.CD_TP_SIT_FUNC_ESC\n",
        "\n",
        "\n",
        "  GROUP BY \n",
        "\n",
        "      TPE.NM_TP_ESCOLA,\n",
        "      TPENS.NM_TP_ENSINO,\n",
        "      UFES.SG_UF_ESC,\n",
        "      SITES.NM_TP_SIT_FUNC_ESC\n",
        "\n",
        "  ORDER BY MEDIA DESC\n",
        "\n",
        "\n",
        "\"\"\", 1)"
      ],
      "metadata": {
        "colab": {
          "base_uri": "https://localhost:8080/"
        },
        "id": "yY8oqVlKRE9p",
        "outputId": "8cdc8eab-d11c-417a-8dcd-bfb2cdec2480"
      },
      "execution_count": null,
      "outputs": [
        {
          "output_type": "stream",
          "name": "stdout",
          "text": [
            "+------------+--------------+---------+------------------+----------------+\n",
            "|NM_TP_ESCOLA|NM_TP_ENSINO  |SG_UF_ESC|NM_TP_SIT_FUNC_ESC|MEDIA           |\n",
            "+------------+--------------+---------+------------------+----------------+\n",
            "|Pública     |Ensino Regular|TO       |Extinta           |732.739990234375|\n",
            "+------------+--------------+---------+------------------+----------------+\n",
            "only showing top 1 row\n",
            "\n"
          ]
        }
      ]
    },
    {
      "cell_type": "markdown",
      "source": [
        "### 2-Qual o aluno com a maior média de notas e o valor dessa média?"
      ],
      "metadata": {
        "id": "Z8_CI9RhWkww"
      }
    },
    {
      "cell_type": "code",
      "source": [
        "\n",
        "\n",
        "fn_query(\"\"\"\n",
        "\n",
        "\n",
        "SELECT \n",
        "\n",
        "F.NU_INSCRICAO, \n",
        "S.NM_TP_SEXO,\n",
        "AVG( F.NU_NOTA_REDACAO + F.NU_NOTA_CN + F.NU_NOTA_CH + F.NU_NOTA_LC + F.NU_NOTA_MT ) / 5 MEDIA\n",
        "\n",
        "FROM VW_FATO_ENEM F\n",
        "\n",
        "INNER JOIN VW_DM_SEXO S\n",
        "  ON F.CD_TP_SEXO = S.CD_TP_SEXO\n",
        "\n",
        "GROUP BY NU_INSCRICAO, S.NM_TP_SEXO\n",
        "\n",
        "ORDER BY MEDIA DESC\n",
        "\n",
        "\n",
        "\"\"\", 1)\n",
        "\n"
      ],
      "metadata": {
        "id": "G6YtD_UZWpaJ",
        "colab": {
          "base_uri": "https://localhost:8080/"
        },
        "outputId": "381f2495-f90e-4813-ae11-25576a767ea3"
      },
      "execution_count": null,
      "outputs": [
        {
          "output_type": "stream",
          "name": "stdout",
          "text": [
            "+------------+----------+---------------+\n",
            "|NU_INSCRICAO|NM_TP_SEXO|MEDIA          |\n",
            "+------------+----------+---------------+\n",
            "|200005996961|Masculino |858.57998046875|\n",
            "+------------+----------+---------------+\n",
            "only showing top 1 row\n",
            "\n"
          ]
        }
      ]
    },
    {
      "cell_type": "markdown",
      "source": [
        "### 3-Qual a média geral?"
      ],
      "metadata": {
        "id": "-xkSDLSaX1dI"
      }
    },
    {
      "cell_type": "code",
      "source": [
        "fn_query(\"\"\"\n",
        "\n",
        "\n",
        "SELECT \n",
        "\n",
        "AVG( F.NU_NOTA_REDACAO + F.NU_NOTA_CN + F.NU_NOTA_CH + F.NU_NOTA_LC + F.NU_NOTA_MT ) / 5 MEDIA\n",
        "\n",
        " FROM VW_FATO_ENEM F\n",
        "\n",
        "\n",
        "\"\"\", 1)"
      ],
      "metadata": {
        "id": "Bba9CQ0NX5rt",
        "colab": {
          "base_uri": "https://localhost:8080/"
        },
        "outputId": "fb56fdd0-3a00-44b1-aca5-b0ddd8525135"
      },
      "execution_count": null,
      "outputs": [
        {
          "output_type": "stream",
          "name": "stdout",
          "text": [
            "+-----------------+\n",
            "|MEDIA            |\n",
            "+-----------------+\n",
            "|526.5806802710897|\n",
            "+-----------------+\n",
            "\n"
          ]
        }
      ]
    },
    {
      "cell_type": "markdown",
      "source": [
        "### 4-Qual o % de Ausentes?"
      ],
      "metadata": {
        "id": "E7XgHsxHYOLe"
      }
    },
    {
      "cell_type": "code",
      "source": [
        "fn_query(\"\"\"\n",
        "\n",
        "\n",
        "SELECT \n",
        "\n",
        "COUNT(F.NU_INSCRICAO) TOTAL_ALUNOS,\n",
        "\n",
        "COUNT(\n",
        "  CASE \n",
        "    WHEN CN.CD_TP_PRESENCA = 0 THEN 1\n",
        "    WHEN CH.CD_TP_PRESENCA = 0 THEN 1\n",
        "    WHEN LC.CD_TP_PRESENCA = 0 THEN 1\n",
        "    WHEN MT.CD_TP_PRESENCA = 0 THEN 1\n",
        "  END) TOTAL_AUSENTES_EM_UMA_DAS_PROVAS,\n",
        "\n",
        "COUNT(\n",
        "  CASE \n",
        "    WHEN CN.CD_TP_PRESENCA = 0 THEN 1\n",
        "    WHEN CH.CD_TP_PRESENCA = 0 THEN 1\n",
        "    WHEN LC.CD_TP_PRESENCA = 0 THEN 1\n",
        "    WHEN MT.CD_TP_PRESENCA = 0 THEN 1\n",
        "  END) / COUNT(F.NU_INSCRICAO) * 100 PERCENTUAL_AUSENTES_EM_UMA_DAS_PROVAS,\n",
        "COUNT(\n",
        "  CASE \n",
        "    WHEN 1=1\n",
        "      AND  CN.CD_TP_PRESENCA = 0  \n",
        "      AND  CH.CD_TP_PRESENCA = 0  \n",
        "      AND  LC.CD_TP_PRESENCA = 0  \n",
        "      AND  MT.CD_TP_PRESENCA = 0 \n",
        "    THEN  1 \n",
        "  END) TOTAL_AUSENTES_EM_TODAS_AS_PROVAS,\n",
        "COUNT(\n",
        "  CASE \n",
        "    WHEN 1=1\n",
        "      AND  CN.CD_TP_PRESENCA = 0  \n",
        "      AND  CH.CD_TP_PRESENCA = 0  \n",
        "      AND  LC.CD_TP_PRESENCA = 0  \n",
        "      AND  MT.CD_TP_PRESENCA = 0 \n",
        "    THEN  1 \n",
        "  END) / COUNT(F.NU_INSCRICAO) * 100 PERCENTUAL_AUSENTES_TODAS_AS_PROVAS\n",
        "\n",
        " FROM VW_FATO_ENEM F \n",
        "\n",
        " INNER JOIN VW_DM_TP_PRESENCA CN\n",
        "  ON F.CD_TP_PRESENCA_CN = CN.CD_TP_PRESENCA\n",
        "\n",
        " INNER JOIN VW_DM_TP_PRESENCA CH \n",
        "  ON F.CD_TP_PRESENCA_CH = CH.CD_TP_PRESENCA\n",
        "\n",
        " INNER JOIN VW_DM_TP_PRESENCA LC\n",
        "  ON F.CD_TP_PRESENCA_LC = LC.CD_TP_PRESENCA\n",
        "\n",
        " INNER JOIN VW_DM_TP_PRESENCA MT \n",
        "  ON F.CD_TP_PRESENCA_MT = MT.CD_TP_PRESENCA\n",
        "\n",
        "\"\"\", 1)"
      ],
      "metadata": {
        "id": "lGoybD74X7za",
        "colab": {
          "base_uri": "https://localhost:8080/"
        },
        "outputId": "3d783a2f-8779-42fc-d347-3ec051c3d404"
      },
      "execution_count": null,
      "outputs": [
        {
          "output_type": "stream",
          "name": "stdout",
          "text": [
            "+------------+--------------------------------+-------------------------------------+---------------------------------+-----------------------------------+\n",
            "|TOTAL_ALUNOS|TOTAL_AUSENTES_EM_UMA_DAS_PROVAS|PERCENTUAL_AUSENTES_EM_UMA_DAS_PROVAS|TOTAL_AUSENTES_EM_TODAS_AS_PROVAS|PERCENTUAL_AUSENTES_TODAS_AS_PROVAS|\n",
            "+------------+--------------------------------+-------------------------------------+---------------------------------+-----------------------------------+\n",
            "|5783109     |3192751                         |55.20821067007383                    |3016082                          |52.15329678205961                  |\n",
            "+------------+--------------------------------+-------------------------------------+---------------------------------+-----------------------------------+\n",
            "\n"
          ]
        }
      ]
    },
    {
      "cell_type": "markdown",
      "source": [
        "### 5-Qual o número total de Inscritos?"
      ],
      "metadata": {
        "id": "tTQtfavjb698"
      }
    },
    {
      "cell_type": "code",
      "source": [
        "fn_query(\"\"\"\n",
        "\n",
        "SELECT COUNT(NU_INSCRICAO) AS TOTAL_INSCRITOS FROM VW_FATO_ENEM\n",
        "\n",
        "\"\"\", 1)"
      ],
      "metadata": {
        "colab": {
          "base_uri": "https://localhost:8080/"
        },
        "id": "u4JnTtONX8T1",
        "outputId": "14d24a66-5087-498a-b9d6-8add0ae8ce4b"
      },
      "execution_count": null,
      "outputs": [
        {
          "output_type": "stream",
          "name": "stdout",
          "text": [
            "+---------------+\n",
            "|TOTAL_INSCRITOS|\n",
            "+---------------+\n",
            "|5783109        |\n",
            "+---------------+\n",
            "\n"
          ]
        }
      ]
    },
    {
      "cell_type": "markdown",
      "source": [
        "Qual a média por disciplina?"
      ],
      "metadata": {
        "id": "gu6c26DgcLkO"
      }
    },
    {
      "cell_type": "code",
      "source": [
        "fn_query(\"\"\"\n",
        "\n",
        "\n",
        "SELECT \n",
        "\n",
        "AVG(NU_NOTA_REDACAO) MEDIA_REDACAO,\n",
        "AVG(NU_NOTA_CN) MEDIA_CIENCIAS_NATUREZA,\n",
        "AVG(NU_NOTA_CH) MEDIA_CIENCIAS_HUMANAS,\n",
        "AVG(NU_NOTA_LC) MEDIA_LINGUAGENS_CODIGOS,\n",
        "AVG(NU_NOTA_MT) MEDIA_MATEMATICA\n",
        "\n",
        "\n",
        "FROM VW_FATO_ENEM F\n",
        "\n",
        "\n",
        "\"\"\", 1)"
      ],
      "metadata": {
        "id": "JO7zOAQvX8mt",
        "colab": {
          "base_uri": "https://localhost:8080/"
        },
        "outputId": "8a54edfd-122f-4521-e0af-3dcc19fe42d9"
      },
      "execution_count": null,
      "outputs": [
        {
          "output_type": "stream",
          "name": "stdout",
          "text": [
            "+-----------------+-----------------------+----------------------+------------------------+-----------------+\n",
            "|MEDIA_REDACAO    |MEDIA_CIENCIAS_NATUREZA|MEDIA_CIENCIAS_HUMANAS|MEDIA_LINGUAGENS_CODIGOS|MEDIA_MATEMATICA |\n",
            "+-----------------+-----------------------+----------------------+------------------------+-----------------+\n",
            "|573.4127241171473|490.40979246714295     |511.15220161656333    |523.8009359209917       |520.5783348331989|\n",
            "+-----------------+-----------------------+----------------------+------------------------+-----------------+\n",
            "\n"
          ]
        }
      ]
    },
    {
      "cell_type": "markdown",
      "source": [
        "### 6-Qual a média por Sexo?"
      ],
      "metadata": {
        "id": "te-M_JX5c37s"
      }
    },
    {
      "cell_type": "code",
      "source": [
        "fn_query(\"\"\"\n",
        "\n",
        "SELECT \n",
        "\n",
        "SX.NM_TP_SEXO SEXO,\n",
        "AVG( F.NU_NOTA_REDACAO + F.NU_NOTA_CN + F.NU_NOTA_CH + F.NU_NOTA_LC + F.NU_NOTA_MT ) / 5 MEDIA\n",
        "\n",
        "FROM VW_FATO_ENEM F\n",
        "\n",
        "INNER JOIN VW_DM_SEXO SX\n",
        "  ON F.CD_TP_SEXO = SX.CD_TP_SEXO\n",
        "\n",
        "GROUP BY SX.NM_TP_SEXO\n",
        "\n",
        "ORDER BY MEDIA DESC\n",
        "\n",
        "\"\"\", 2)"
      ],
      "metadata": {
        "id": "b_rTDDY9X86E",
        "colab": {
          "base_uri": "https://localhost:8080/"
        },
        "outputId": "c87998f6-b302-455c-a772-c31158dad129"
      },
      "execution_count": null,
      "outputs": [
        {
          "output_type": "stream",
          "name": "stdout",
          "text": [
            "+---------+-----------------+\n",
            "|SEXO     |MEDIA            |\n",
            "+---------+-----------------+\n",
            "|Masculino|534.7254885762486|\n",
            "|Feminino |521.2449112113118|\n",
            "+---------+-----------------+\n",
            "\n"
          ]
        }
      ]
    },
    {
      "cell_type": "markdown",
      "source": [
        "### 7-Qual a média por Etnia?"
      ],
      "metadata": {
        "id": "k_frFBJoc4n7"
      }
    },
    {
      "cell_type": "code",
      "source": [
        "fn_query(\"\"\"\n",
        "\n",
        "SELECT \n",
        "\n",
        "ETN.NM_COR_RACA ETNIA,\n",
        "AVG( F.NU_NOTA_REDACAO + F.NU_NOTA_CN + F.NU_NOTA_CH + F.NU_NOTA_LC + F.NU_NOTA_MT ) / 5 MEDIA\n",
        "\n",
        "FROM VW_FATO_ENEM F\n",
        "\n",
        "INNER JOIN VW_DM_ETNIA ETN\n",
        "  ON F.CD_TP_RACA = ETN.CD_TP_RACA\n",
        "\n",
        "GROUP BY \n",
        "  ETN.NM_COR_RACA \n",
        "\n",
        "ORDER BY MEDIA DESC\n",
        "\n",
        "\n",
        "\"\"\", 10)"
      ],
      "metadata": {
        "id": "XZ9DR5EcX9MN",
        "colab": {
          "base_uri": "https://localhost:8080/"
        },
        "outputId": "b54281b1-1ba4-4e1a-c147-c26e31702fec"
      },
      "execution_count": null,
      "outputs": [
        {
          "output_type": "stream",
          "name": "stdout",
          "text": [
            "+-------------+------------------+\n",
            "|ETNIA        |MEDIA             |\n",
            "+-------------+------------------+\n",
            "|Branca       |556.5267221081538 |\n",
            "|Não Declarado|534.0503396940918 |\n",
            "|Amarela      |524.9384384106668 |\n",
            "|Parda        |508.65750171655566|\n",
            "|Preta        |500.86830199949856|\n",
            "|Indígena     |472.8436679082612 |\n",
            "+-------------+------------------+\n",
            "\n"
          ]
        }
      ]
    },
    {
      "cell_type": "markdown",
      "source": [
        "## Duração de todo o processo"
      ],
      "metadata": {
        "id": "Q0I5rqhULy24"
      }
    },
    {
      "cell_type": "code",
      "source": [
        "finished = datetime.now()\n",
        "print(finished-started)"
      ],
      "metadata": {
        "colab": {
          "base_uri": "https://localhost:8080/"
        },
        "id": "OwxR1ypjCSEu",
        "outputId": "7225fea8-372a-428a-f00f-f1768517913b"
      },
      "execution_count": null,
      "outputs": [
        {
          "output_type": "stream",
          "name": "stdout",
          "text": [
            "0:18:05.606077\n"
          ]
        }
      ]
    }
  ]
}